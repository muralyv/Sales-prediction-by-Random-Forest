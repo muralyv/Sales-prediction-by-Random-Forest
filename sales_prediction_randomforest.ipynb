{
 "cells": [
  {
   "cell_type": "code",
   "execution_count": 2,
   "id": "western-background",
   "metadata": {},
   "outputs": [],
   "source": [
    "import pandas as pd\n",
    "import matplotlib.pyplot as plt\n",
    "from datetime import datetime as dt\n",
    "import numpy as np\n",
    "import seaborn as sns"
   ]
  },
  {
   "cell_type": "code",
   "execution_count": 3,
   "id": "northern-tobago",
   "metadata": {},
   "outputs": [
    {
     "data": {
      "text/html": [
       "<div>\n",
       "<style scoped>\n",
       "    .dataframe tbody tr th:only-of-type {\n",
       "        vertical-align: middle;\n",
       "    }\n",
       "\n",
       "    .dataframe tbody tr th {\n",
       "        vertical-align: top;\n",
       "    }\n",
       "\n",
       "    .dataframe thead th {\n",
       "        text-align: right;\n",
       "    }\n",
       "</style>\n",
       "<table border=\"1\" class=\"dataframe\">\n",
       "  <thead>\n",
       "    <tr style=\"text-align: right;\">\n",
       "      <th></th>\n",
       "      <th>S_Invoice_No</th>\n",
       "      <th>item_Code</th>\n",
       "      <th>description</th>\n",
       "      <th>item_Qty</th>\n",
       "      <th>S_Date</th>\n",
       "      <th>Purchases_price</th>\n",
       "      <th>Sale_Price</th>\n",
       "      <th>Profit</th>\n",
       "      <th>Holidays on weekdays</th>\n",
       "      <th>Holidays on weekends</th>\n",
       "      <th>Hindu/Christ holidays</th>\n",
       "      <th>total_holidays_weekly</th>\n",
       "      <th>Profit per unit</th>\n",
       "    </tr>\n",
       "  </thead>\n",
       "  <tbody>\n",
       "    <tr>\n",
       "      <th>917810</th>\n",
       "      <td>191231308.0</td>\n",
       "      <td>C55</td>\n",
       "      <td>BOOK</td>\n",
       "      <td>1.0</td>\n",
       "      <td>2019-12-31</td>\n",
       "      <td>25.0</td>\n",
       "      <td>60.0</td>\n",
       "      <td>35.0</td>\n",
       "      <td>0</td>\n",
       "      <td>0</td>\n",
       "      <td>0</td>\n",
       "      <td>0</td>\n",
       "      <td>35.0</td>\n",
       "    </tr>\n",
       "    <tr>\n",
       "      <th>917811</th>\n",
       "      <td>191231308.0</td>\n",
       "      <td>H1</td>\n",
       "      <td>PADDIJAPPA</td>\n",
       "      <td>1.0</td>\n",
       "      <td>2019-12-31</td>\n",
       "      <td>30.0</td>\n",
       "      <td>50.0</td>\n",
       "      <td>20.0</td>\n",
       "      <td>0</td>\n",
       "      <td>0</td>\n",
       "      <td>0</td>\n",
       "      <td>0</td>\n",
       "      <td>20.0</td>\n",
       "    </tr>\n",
       "    <tr>\n",
       "      <th>917812</th>\n",
       "      <td>191231308.0</td>\n",
       "      <td>KA04</td>\n",
       "      <td>KADALA - M</td>\n",
       "      <td>1.0</td>\n",
       "      <td>2019-12-31</td>\n",
       "      <td>178.0</td>\n",
       "      <td>195.0</td>\n",
       "      <td>17.0</td>\n",
       "      <td>0</td>\n",
       "      <td>0</td>\n",
       "      <td>0</td>\n",
       "      <td>0</td>\n",
       "      <td>17.0</td>\n",
       "    </tr>\n",
       "    <tr>\n",
       "      <th>917813</th>\n",
       "      <td>191231309.0</td>\n",
       "      <td>1000000783</td>\n",
       "      <td>SOBIN BAG - 5KG</td>\n",
       "      <td>1.0</td>\n",
       "      <td>2019-12-31</td>\n",
       "      <td>255.0</td>\n",
       "      <td>290.0</td>\n",
       "      <td>35.0</td>\n",
       "      <td>0</td>\n",
       "      <td>0</td>\n",
       "      <td>0</td>\n",
       "      <td>0</td>\n",
       "      <td>35.0</td>\n",
       "    </tr>\n",
       "    <tr>\n",
       "      <th>917814</th>\n",
       "      <td>191231309.0</td>\n",
       "      <td>4.80E+12</td>\n",
       "      <td>SUPOSHA - 750G</td>\n",
       "      <td>2.0</td>\n",
       "      <td>2019-12-31</td>\n",
       "      <td>199.0</td>\n",
       "      <td>220.0</td>\n",
       "      <td>42.0</td>\n",
       "      <td>0</td>\n",
       "      <td>0</td>\n",
       "      <td>0</td>\n",
       "      <td>0</td>\n",
       "      <td>21.0</td>\n",
       "    </tr>\n",
       "  </tbody>\n",
       "</table>\n",
       "</div>"
      ],
      "text/plain": [
       "        S_Invoice_No   item_Code      description  item_Qty     S_Date  \\\n",
       "917810   191231308.0         C55             BOOK       1.0 2019-12-31   \n",
       "917811   191231308.0          H1       PADDIJAPPA       1.0 2019-12-31   \n",
       "917812   191231308.0        KA04       KADALA - M       1.0 2019-12-31   \n",
       "917813   191231309.0  1000000783  SOBIN BAG - 5KG       1.0 2019-12-31   \n",
       "917814   191231309.0    4.80E+12   SUPOSHA - 750G       2.0 2019-12-31   \n",
       "\n",
       "        Purchases_price  Sale_Price  Profit  Holidays on weekdays  \\\n",
       "917810             25.0        60.0    35.0                     0   \n",
       "917811             30.0        50.0    20.0                     0   \n",
       "917812            178.0       195.0    17.0                     0   \n",
       "917813            255.0       290.0    35.0                     0   \n",
       "917814            199.0       220.0    42.0                     0   \n",
       "\n",
       "        Holidays on weekends  Hindu/Christ holidays  total_holidays_weekly  \\\n",
       "917810                     0                      0                      0   \n",
       "917811                     0                      0                      0   \n",
       "917812                     0                      0                      0   \n",
       "917813                     0                      0                      0   \n",
       "917814                     0                      0                      0   \n",
       "\n",
       "        Profit per unit  \n",
       "917810             35.0  \n",
       "917811             20.0  \n",
       "917812             17.0  \n",
       "917813             35.0  \n",
       "917814             21.0  "
      ]
     },
     "execution_count": 3,
     "metadata": {},
     "output_type": "execute_result"
    }
   ],
   "source": [
    "df=pd.read_csv(r\"D:\\msc research\\data\\csv files\\moonkil_full.csv\")\n",
    "\n",
    "df=df[df['Profit'] > 0]\n",
    "\n",
    "\n",
    "df['total_holidays_weekly']=df['Holidays on weekdays']+df['Holidays on weekends']\n",
    "\n",
    "df['Profit per unit']=df['Profit']/df['item_Qty']\n",
    "\n",
    "df['S_Date'] = df['S_Date'].astype('datetime64[ns]')\n",
    "df=df[(df['S_Date'] > '2016-06-01') & (df['S_Date'] < '2020-01-01')]\n",
    "\n",
    "#df=df[(df['S_Date'] > '2016-01-01')]\n",
    "df.tail()\n"
   ]
  },
  {
   "cell_type": "code",
   "execution_count": 15,
   "id": "limited-stable",
   "metadata": {},
   "outputs": [
    {
     "data": {
      "text/html": [
       "<div>\n",
       "<style scoped>\n",
       "    .dataframe tbody tr th:only-of-type {\n",
       "        vertical-align: middle;\n",
       "    }\n",
       "\n",
       "    .dataframe tbody tr th {\n",
       "        vertical-align: top;\n",
       "    }\n",
       "\n",
       "    .dataframe thead th {\n",
       "        text-align: right;\n",
       "    }\n",
       "</style>\n",
       "<table border=\"1\" class=\"dataframe\">\n",
       "  <thead>\n",
       "    <tr style=\"text-align: right;\">\n",
       "      <th></th>\n",
       "      <th>S_Date</th>\n",
       "      <th>Kowpi_Sale_price</th>\n",
       "      <th>Kowpi_total_item_Qty</th>\n",
       "      <th>Kowpi_weeksbefore_sale</th>\n",
       "      <th>Kowpi_2weeksbefore_sale</th>\n",
       "      <th>Kowpi_3weeksbefore_sale</th>\n",
       "      <th>Kowpi_4weeksbefore_sale</th>\n",
       "      <th>Kowpi_last2weeks_totalsale</th>\n",
       "      <th>Kowpi_last3weeks_totalsale</th>\n",
       "      <th>Kowpi_lastmonth_totalsale</th>\n",
       "      <th>Kowpi_weekbefore_price</th>\n",
       "      <th>Kowpi_5weekbefore_price</th>\n",
       "      <th>Kowpi_3weekbefore_price</th>\n",
       "      <th>Kowpi_2weekbefore_price</th>\n",
       "      <th>Kowpi_4weekbefore_price</th>\n",
       "    </tr>\n",
       "  </thead>\n",
       "  <tbody>\n",
       "    <tr>\n",
       "      <th>179</th>\n",
       "      <td>2019-12-08</td>\n",
       "      <td>255.000000</td>\n",
       "      <td>16.600</td>\n",
       "      <td>18.200</td>\n",
       "      <td>13.735</td>\n",
       "      <td>24.585</td>\n",
       "      <td>32.900</td>\n",
       "      <td>31.935</td>\n",
       "      <td>56.520</td>\n",
       "      <td>89.42</td>\n",
       "      <td>255.000000</td>\n",
       "      <td>255.0</td>\n",
       "      <td>255.0</td>\n",
       "      <td>255.0</td>\n",
       "      <td>255.0</td>\n",
       "    </tr>\n",
       "    <tr>\n",
       "      <th>180</th>\n",
       "      <td>2019-12-15</td>\n",
       "      <td>255.000000</td>\n",
       "      <td>24.115</td>\n",
       "      <td>16.600</td>\n",
       "      <td>18.200</td>\n",
       "      <td>13.735</td>\n",
       "      <td>24.585</td>\n",
       "      <td>34.800</td>\n",
       "      <td>48.535</td>\n",
       "      <td>73.12</td>\n",
       "      <td>255.000000</td>\n",
       "      <td>255.0</td>\n",
       "      <td>255.0</td>\n",
       "      <td>255.0</td>\n",
       "      <td>255.0</td>\n",
       "    </tr>\n",
       "    <tr>\n",
       "      <th>181</th>\n",
       "      <td>2019-12-22</td>\n",
       "      <td>255.000000</td>\n",
       "      <td>29.215</td>\n",
       "      <td>24.115</td>\n",
       "      <td>16.600</td>\n",
       "      <td>18.200</td>\n",
       "      <td>13.735</td>\n",
       "      <td>40.715</td>\n",
       "      <td>58.915</td>\n",
       "      <td>72.65</td>\n",
       "      <td>255.000000</td>\n",
       "      <td>255.0</td>\n",
       "      <td>255.0</td>\n",
       "      <td>255.0</td>\n",
       "      <td>255.0</td>\n",
       "    </tr>\n",
       "    <tr>\n",
       "      <th>182</th>\n",
       "      <td>2019-12-29</td>\n",
       "      <td>256.111111</td>\n",
       "      <td>10.700</td>\n",
       "      <td>29.215</td>\n",
       "      <td>24.115</td>\n",
       "      <td>16.600</td>\n",
       "      <td>18.200</td>\n",
       "      <td>53.330</td>\n",
       "      <td>69.930</td>\n",
       "      <td>88.13</td>\n",
       "      <td>255.000000</td>\n",
       "      <td>255.0</td>\n",
       "      <td>255.0</td>\n",
       "      <td>255.0</td>\n",
       "      <td>255.0</td>\n",
       "    </tr>\n",
       "    <tr>\n",
       "      <th>183</th>\n",
       "      <td>2020-01-05</td>\n",
       "      <td>260.000000</td>\n",
       "      <td>3.350</td>\n",
       "      <td>10.700</td>\n",
       "      <td>29.215</td>\n",
       "      <td>24.115</td>\n",
       "      <td>16.600</td>\n",
       "      <td>39.915</td>\n",
       "      <td>64.030</td>\n",
       "      <td>80.63</td>\n",
       "      <td>256.111111</td>\n",
       "      <td>255.0</td>\n",
       "      <td>255.0</td>\n",
       "      <td>255.0</td>\n",
       "      <td>255.0</td>\n",
       "    </tr>\n",
       "  </tbody>\n",
       "</table>\n",
       "</div>"
      ],
      "text/plain": [
       "        S_Date  Kowpi_Sale_price  Kowpi_total_item_Qty  \\\n",
       "179 2019-12-08        255.000000                16.600   \n",
       "180 2019-12-15        255.000000                24.115   \n",
       "181 2019-12-22        255.000000                29.215   \n",
       "182 2019-12-29        256.111111                10.700   \n",
       "183 2020-01-05        260.000000                 3.350   \n",
       "\n",
       "     Kowpi_weeksbefore_sale  Kowpi_2weeksbefore_sale  Kowpi_3weeksbefore_sale  \\\n",
       "179                  18.200                   13.735                   24.585   \n",
       "180                  16.600                   18.200                   13.735   \n",
       "181                  24.115                   16.600                   18.200   \n",
       "182                  29.215                   24.115                   16.600   \n",
       "183                  10.700                   29.215                   24.115   \n",
       "\n",
       "     Kowpi_4weeksbefore_sale  Kowpi_last2weeks_totalsale  \\\n",
       "179                   32.900                      31.935   \n",
       "180                   24.585                      34.800   \n",
       "181                   13.735                      40.715   \n",
       "182                   18.200                      53.330   \n",
       "183                   16.600                      39.915   \n",
       "\n",
       "     Kowpi_last3weeks_totalsale  Kowpi_lastmonth_totalsale  \\\n",
       "179                      56.520                      89.42   \n",
       "180                      48.535                      73.12   \n",
       "181                      58.915                      72.65   \n",
       "182                      69.930                      88.13   \n",
       "183                      64.030                      80.63   \n",
       "\n",
       "     Kowpi_weekbefore_price  Kowpi_5weekbefore_price  Kowpi_3weekbefore_price  \\\n",
       "179              255.000000                    255.0                    255.0   \n",
       "180              255.000000                    255.0                    255.0   \n",
       "181              255.000000                    255.0                    255.0   \n",
       "182              255.000000                    255.0                    255.0   \n",
       "183              256.111111                    255.0                    255.0   \n",
       "\n",
       "     Kowpi_2weekbefore_price  Kowpi_4weekbefore_price  \n",
       "179                    255.0                    255.0  \n",
       "180                    255.0                    255.0  \n",
       "181                    255.0                    255.0  \n",
       "182                    255.0                    255.0  \n",
       "183                    255.0                    255.0  "
      ]
     },
     "execution_count": 15,
     "metadata": {},
     "output_type": "execute_result"
    }
   ],
   "source": [
    "dfa=df.loc[df['description']=='KOWPI']\n",
    "dfa=dfa.drop(['S_Invoice_No','item_Code','description','description'], axis = 1)\n",
    "\n",
    "x=dfa.set_index('S_Date').resample('W-Sun')['Sale_Price'].mean().reset_index()\n",
    "df_k= pd.DataFrame(x)\n",
    "df_k.rename(columns={'Sale_Price': 'Kowpi_Sale_price'}, inplace=True)\n",
    "\n",
    "y = dfa.set_index('S_Date').resample('W-Sun')['item_Qty'].sum()\n",
    "dfz= pd.DataFrame(y)\n",
    "dfz.rename(columns={'item_Qty': 'Kowpi_total_sales'}, inplace=True)\n",
    "\n",
    "df_k['Kowpi_total_item_Qty'] = dfz['Kowpi_total_sales'].values\n",
    "\n",
    "df_k['Kowpi_weeksbefore_sale'] = df_k['Kowpi_total_item_Qty'].shift(1)\n",
    "df_k['Kowpi_2weeksbefore_sale'] = df_k['Kowpi_total_item_Qty'].shift(2)\n",
    "df_k['Kowpi_3weeksbefore_sale'] = df_k['Kowpi_total_item_Qty'].shift(3)\n",
    "df_k['Kowpi_4weeksbefore_sale'] = df_k['Kowpi_total_item_Qty'].shift(4)\n",
    "\n",
    "df_k['Kowpi_last2weeks_totalsale']=df_k.Kowpi_total_item_Qty.rolling(window=2).sum().shift(1)\n",
    "df_k['Kowpi_last3weeks_totalsale'] = df_k.Kowpi_total_item_Qty.rolling(window=3).sum().shift(1)\n",
    "df_k['Kowpi_lastmonth_totalsale'] = df_k.Kowpi_total_item_Qty.rolling(window=4).sum().shift(1)\n",
    "\n",
    "df_k['Kowpi_weekbefore_price'] = df_k['Kowpi_Sale_price'].shift(1)\n",
    "df_k['Kowpi_5weekbefore_price'] = df_k['Kowpi_Sale_price'].shift(5)\n",
    "df_k['Kowpi_3weekbefore_price'] = df_k['Kowpi_Sale_price'].shift(3)\n",
    "df_k['Kowpi_2weekbefore_price'] = df_k['Kowpi_Sale_price'].shift(2)\n",
    "df_k['Kowpi_4weekbefore_price'] = df_k['Kowpi_Sale_price'].shift(4)\n",
    "\n",
    "df_k.tail()\n"
   ]
  },
  {
   "cell_type": "raw",
   "id": "nervous-reform",
   "metadata": {},
   "source": [
    "import seaborn as sns\n",
    "sns.set(rc={'figure.figsize':(20,2)})\n",
    "sns.boxplot(x=df_k['AFC400_total_item_Qty'])"
   ]
  },
  {
   "cell_type": "code",
   "execution_count": 5,
   "id": "exposed-environment",
   "metadata": {},
   "outputs": [
    {
     "data": {
      "text/plain": [
       "<AxesSubplot:title={'center':'weekly sales Anchor'}>"
      ]
     },
     "execution_count": 5,
     "metadata": {},
     "output_type": "execute_result"
    },
    {
     "data": {
      "image/png": "[encoded data removed]",
      "text/plain": [
       "<Figure size 720x432 with 1 Axes>"
      ]
     },
     "metadata": {
      "needs_background": "light"
     },
     "output_type": "display_data"
    }
   ],
   "source": [
    "df_k[['Kowpi_total_item_Qty','Kowpi_Sale_price']].plot(figsize=(10,6), fontsize=12, title='weekly sales Anchor')"
   ]
  },
  {
   "cell_type": "code",
   "execution_count": 6,
   "id": "portable-participation",
   "metadata": {},
   "outputs": [
    {
     "data": {
      "text/plain": [
       "<seaborn.axisgrid.FacetGrid at 0x1b4887bd430>"
      ]
     },
     "execution_count": 6,
     "metadata": {},
     "output_type": "execute_result"
    },
    {
     "data": {
      "image/png": "[encoded data removed]",
      "text/plain": [
       "<Figure size 360x360 with 1 Axes>"
      ]
     },
     "metadata": {
      "needs_background": "light"
     },
     "output_type": "display_data"
    }
   ],
   "source": [
    "sns.lmplot(y='Kowpi_total_item_Qty', x='Kowpi_Sale_price',data=df_k[['Kowpi_total_item_Qty','Kowpi_Sale_price']])"
   ]
  },
  {
   "cell_type": "code",
   "execution_count": 7,
   "id": "meaning-pharmaceutical",
   "metadata": {},
   "outputs": [
    {
     "name": "stdout",
     "output_type": "stream",
     "text": [
      "(184, 2)\n"
     ]
    },
    {
     "data": {
      "text/html": [
       "<div>\n",
       "<style scoped>\n",
       "    .dataframe tbody tr th:only-of-type {\n",
       "        vertical-align: middle;\n",
       "    }\n",
       "\n",
       "    .dataframe tbody tr th {\n",
       "        vertical-align: top;\n",
       "    }\n",
       "\n",
       "    .dataframe thead th {\n",
       "        text-align: right;\n",
       "    }\n",
       "</style>\n",
       "<table border=\"1\" class=\"dataframe\">\n",
       "  <thead>\n",
       "    <tr style=\"text-align: right;\">\n",
       "      <th></th>\n",
       "      <th>soy_Sale_price</th>\n",
       "      <th>soy_total_item_Qty</th>\n",
       "    </tr>\n",
       "    <tr>\n",
       "      <th>S_Date</th>\n",
       "      <th></th>\n",
       "      <th></th>\n",
       "    </tr>\n",
       "  </thead>\n",
       "  <tbody>\n",
       "    <tr>\n",
       "      <th>2019-12-08</th>\n",
       "      <td>65.0</td>\n",
       "      <td>4.0</td>\n",
       "    </tr>\n",
       "    <tr>\n",
       "      <th>2019-12-15</th>\n",
       "      <td>65.0</td>\n",
       "      <td>5.0</td>\n",
       "    </tr>\n",
       "    <tr>\n",
       "      <th>2019-12-22</th>\n",
       "      <td>65.0</td>\n",
       "      <td>7.0</td>\n",
       "    </tr>\n",
       "    <tr>\n",
       "      <th>2019-12-29</th>\n",
       "      <td>65.0</td>\n",
       "      <td>6.0</td>\n",
       "    </tr>\n",
       "    <tr>\n",
       "      <th>2020-01-05</th>\n",
       "      <td>65.0</td>\n",
       "      <td>19.0</td>\n",
       "    </tr>\n",
       "  </tbody>\n",
       "</table>\n",
       "</div>"
      ],
      "text/plain": [
       "            soy_Sale_price  soy_total_item_Qty\n",
       "S_Date                                        \n",
       "2019-12-08            65.0                 4.0\n",
       "2019-12-15            65.0                 5.0\n",
       "2019-12-22            65.0                 7.0\n",
       "2019-12-29            65.0                 6.0\n",
       "2020-01-05            65.0                19.0"
      ]
     },
     "execution_count": 7,
     "metadata": {},
     "output_type": "execute_result"
    }
   ],
   "source": [
    "dfa=df.loc[df['description']=='LANKASOY - 90G']\n",
    "dfa=dfa.drop(['S_Invoice_No','item_Code','description','Profit','description','Purchases_price'], axis = 1)\n",
    "dfa['S_Date'] = dfa['S_Date'].astype('datetime64[ns]')\n",
    "\n",
    "x=dfa.set_index('S_Date').resample('W-Sun')['Sale_Price'].mean()\n",
    "df_soy= pd.DataFrame(x)\n",
    "df_soy.rename(columns={'Sale_Price':'soy_Sale_price'}, inplace=True)\n",
    "\n",
    "ze=dfa.set_index('S_Date').resample('W-Sun')['item_Qty'].sum()\n",
    "dfzze= pd.DataFrame(ze)\n",
    "dfzze.rename(columns={'item_Qty':'soy_total_item_Qty'}, inplace=True)\n",
    "\n",
    "df_soy['soy_total_item_Qty'] = dfzze['soy_total_item_Qty'].values\n",
    "df_soy['soy_total_item_Qty']=df_soy['soy_total_item_Qty'].shift(1)\n",
    "print(df_soy.shape)\n",
    "df_soy.tail()"
   ]
  },
  {
   "cell_type": "code",
   "execution_count": 11,
   "id": "monetary-graduation",
   "metadata": {},
   "outputs": [
    {
     "name": "stdout",
     "output_type": "stream",
     "text": [
      "(121, 2)\n"
     ]
    },
    {
     "data": {
      "text/html": [
       "<div>\n",
       "<style scoped>\n",
       "    .dataframe tbody tr th:only-of-type {\n",
       "        vertical-align: middle;\n",
       "    }\n",
       "\n",
       "    .dataframe tbody tr th {\n",
       "        vertical-align: top;\n",
       "    }\n",
       "\n",
       "    .dataframe thead th {\n",
       "        text-align: right;\n",
       "    }\n",
       "</style>\n",
       "<table border=\"1\" class=\"dataframe\">\n",
       "  <thead>\n",
       "    <tr style=\"text-align: right;\">\n",
       "      <th></th>\n",
       "      <th>kadala_Sale_price</th>\n",
       "      <th>kadala_total_item_Qty</th>\n",
       "    </tr>\n",
       "    <tr>\n",
       "      <th>S_Date</th>\n",
       "      <th></th>\n",
       "      <th></th>\n",
       "    </tr>\n",
       "  </thead>\n",
       "  <tbody>\n",
       "    <tr>\n",
       "      <th>2018-08-19</th>\n",
       "      <td>219.142857</td>\n",
       "      <td>14.550</td>\n",
       "    </tr>\n",
       "    <tr>\n",
       "      <th>2018-08-26</th>\n",
       "      <td>215.714286</td>\n",
       "      <td>59.185</td>\n",
       "    </tr>\n",
       "    <tr>\n",
       "      <th>2018-09-02</th>\n",
       "      <td>218.666667</td>\n",
       "      <td>32.225</td>\n",
       "    </tr>\n",
       "    <tr>\n",
       "      <th>2018-09-09</th>\n",
       "      <td>217.962963</td>\n",
       "      <td>26.450</td>\n",
       "    </tr>\n",
       "    <tr>\n",
       "      <th>2018-09-16</th>\n",
       "      <td>215.943396</td>\n",
       "      <td>23.750</td>\n",
       "    </tr>\n",
       "    <tr>\n",
       "      <th>2018-09-23</th>\n",
       "      <td>220.000000</td>\n",
       "      <td>52.450</td>\n",
       "    </tr>\n",
       "    <tr>\n",
       "      <th>2018-09-30</th>\n",
       "      <td>220.000000</td>\n",
       "      <td>45.215</td>\n",
       "    </tr>\n",
       "    <tr>\n",
       "      <th>2018-10-07</th>\n",
       "      <td>220.000000</td>\n",
       "      <td>26.000</td>\n",
       "    </tr>\n",
       "    <tr>\n",
       "      <th>2018-10-14</th>\n",
       "      <td>219.181818</td>\n",
       "      <td>21.800</td>\n",
       "    </tr>\n",
       "    <tr>\n",
       "      <th>2018-10-21</th>\n",
       "      <td>219.888889</td>\n",
       "      <td>45.750</td>\n",
       "    </tr>\n",
       "  </tbody>\n",
       "</table>\n",
       "</div>"
      ],
      "text/plain": [
       "            kadala_Sale_price  kadala_total_item_Qty\n",
       "S_Date                                              \n",
       "2018-08-19         219.142857                 14.550\n",
       "2018-08-26         215.714286                 59.185\n",
       "2018-09-02         218.666667                 32.225\n",
       "2018-09-09         217.962963                 26.450\n",
       "2018-09-16         215.943396                 23.750\n",
       "2018-09-23         220.000000                 52.450\n",
       "2018-09-30         220.000000                 45.215\n",
       "2018-10-07         220.000000                 26.000\n",
       "2018-10-14         219.181818                 21.800\n",
       "2018-10-21         219.888889                 45.750"
      ]
     },
     "execution_count": 11,
     "metadata": {},
     "output_type": "execute_result"
    }
   ],
   "source": [
    "dfa=df.loc[df['description']=='KADALA']\n",
    "dfa=dfa.drop(['S_Invoice_No','item_Code','description','Profit','description','Purchases_price'], axis = 1)\n",
    "dfa['S_Date'] = dfa['S_Date'].astype('datetime64[ns]')\n",
    "\n",
    "x=dfa.set_index('S_Date').resample('W-Sun')['Sale_Price'].mean()\n",
    "df_kadala= pd.DataFrame(x)\n",
    "df_kadala.rename(columns={'Sale_Price':'kadala_Sale_price'}, inplace=True)\n",
    "\n",
    "ze=dfa.set_index('S_Date').resample('W-Sun')['item_Qty'].sum()\n",
    "dfzze= pd.DataFrame(ze)\n",
    "dfzze.rename(columns={'item_Qty':'kadala_total_item_Qty'}, inplace=True)\n",
    "\n",
    "df_kadala['kadala_total_item_Qty'] = dfzze['kadala_total_item_Qty'].values\n",
    "df_kadala['kadala_total_item_Qty']=df_kadala['kadala_total_item_Qty'].shift(1)\n",
    "print(df_kadala.shape)\n",
    "df_kadala.tail(10)"
   ]
  },
  {
   "cell_type": "code",
   "execution_count": 9,
   "id": "excellent-skiing",
   "metadata": {},
   "outputs": [
    {
     "ename": "KeyError",
     "evalue": "\"['S_Invoice_No', 'item_Code', 'description', 'Profit', 'description', 'Purchases_price'] not found in axis\"",
     "output_type": "error",
     "traceback": [
      "\u001b[1;31m---------------------------------------------------------------------------\u001b[0m",
      "\u001b[1;31mKeyError\u001b[0m                                  Traceback (most recent call last)",
      "\u001b[1;32md:\\msc research\\python - kowpi\\Kowpi RF.ipynb Cell 9'\u001b[0m in \u001b[0;36m<cell line: 2>\u001b[1;34m()\u001b[0m\n\u001b[0;32m      <a href='vscode-notebook-cell:/d%3A/msc%20research/python%20-%20kowpi/Kowpi%20RF.ipynb#ch0000008?line=0'>1</a>\u001b[0m edfa\u001b[39m=\u001b[39mdf\u001b[39m.\u001b[39mloc[df[\u001b[39m'\u001b[39m\u001b[39mdescription\u001b[39m\u001b[39m'\u001b[39m]\u001b[39m==\u001b[39m\u001b[39m'\u001b[39m\u001b[39mGREEN GRAN\u001b[39m\u001b[39m'\u001b[39m]\n\u001b[1;32m----> <a href='vscode-notebook-cell:/d%3A/msc%20research/python%20-%20kowpi/Kowpi%20RF.ipynb#ch0000008?line=1'>2</a>\u001b[0m dfa\u001b[39m=\u001b[39mdfa\u001b[39m.\u001b[39;49mdrop([\u001b[39m'\u001b[39;49m\u001b[39mS_Invoice_No\u001b[39;49m\u001b[39m'\u001b[39;49m,\u001b[39m'\u001b[39;49m\u001b[39mitem_Code\u001b[39;49m\u001b[39m'\u001b[39;49m,\u001b[39m'\u001b[39;49m\u001b[39mdescription\u001b[39;49m\u001b[39m'\u001b[39;49m,\u001b[39m'\u001b[39;49m\u001b[39mProfit\u001b[39;49m\u001b[39m'\u001b[39;49m,\u001b[39m'\u001b[39;49m\u001b[39mdescription\u001b[39;49m\u001b[39m'\u001b[39;49m,\u001b[39m'\u001b[39;49m\u001b[39mPurchases_price\u001b[39;49m\u001b[39m'\u001b[39;49m], axis \u001b[39m=\u001b[39;49m \u001b[39m1\u001b[39;49m)\n\u001b[0;32m      <a href='vscode-notebook-cell:/d%3A/msc%20research/python%20-%20kowpi/Kowpi%20RF.ipynb#ch0000008?line=2'>3</a>\u001b[0m dfa[\u001b[39m'\u001b[39m\u001b[39mS_Date\u001b[39m\u001b[39m'\u001b[39m] \u001b[39m=\u001b[39m dfa[\u001b[39m'\u001b[39m\u001b[39mS_Date\u001b[39m\u001b[39m'\u001b[39m]\u001b[39m.\u001b[39mastype(\u001b[39m'\u001b[39m\u001b[39mdatetime64[ns]\u001b[39m\u001b[39m'\u001b[39m)\n\u001b[0;32m      <a href='vscode-notebook-cell:/d%3A/msc%20research/python%20-%20kowpi/Kowpi%20RF.ipynb#ch0000008?line=4'>5</a>\u001b[0m x\u001b[39m=\u001b[39mdfa\u001b[39m.\u001b[39mset_index(\u001b[39m'\u001b[39m\u001b[39mS_Date\u001b[39m\u001b[39m'\u001b[39m)\u001b[39m.\u001b[39mresample(\u001b[39m'\u001b[39m\u001b[39mW-Sun\u001b[39m\u001b[39m'\u001b[39m)[\u001b[39m'\u001b[39m\u001b[39mSale_Price\u001b[39m\u001b[39m'\u001b[39m]\u001b[39m.\u001b[39mmean()\n",
      "File \u001b[1;32mc:\\Users\\muralee\\anaconda3\\envs\\msc_project\\lib\\site-packages\\pandas\\util\\_decorators.py:311\u001b[0m, in \u001b[0;36mdeprecate_nonkeyword_arguments.<locals>.decorate.<locals>.wrapper\u001b[1;34m(*args, **kwargs)\u001b[0m\n\u001b[0;32m    <a href='file:///c%3A/Users/muralee/anaconda3/envs/msc_project/lib/site-packages/pandas/util/_decorators.py?line=304'>305</a>\u001b[0m \u001b[39mif\u001b[39;00m \u001b[39mlen\u001b[39m(args) \u001b[39m>\u001b[39m num_allow_args:\n\u001b[0;32m    <a href='file:///c%3A/Users/muralee/anaconda3/envs/msc_project/lib/site-packages/pandas/util/_decorators.py?line=305'>306</a>\u001b[0m     warnings\u001b[39m.\u001b[39mwarn(\n\u001b[0;32m    <a href='file:///c%3A/Users/muralee/anaconda3/envs/msc_project/lib/site-packages/pandas/util/_decorators.py?line=306'>307</a>\u001b[0m         msg\u001b[39m.\u001b[39mformat(arguments\u001b[39m=\u001b[39marguments),\n\u001b[0;32m    <a href='file:///c%3A/Users/muralee/anaconda3/envs/msc_project/lib/site-packages/pandas/util/_decorators.py?line=307'>308</a>\u001b[0m         \u001b[39mFutureWarning\u001b[39;00m,\n\u001b[0;32m    <a href='file:///c%3A/Users/muralee/anaconda3/envs/msc_project/lib/site-packages/pandas/util/_decorators.py?line=308'>309</a>\u001b[0m         stacklevel\u001b[39m=\u001b[39mstacklevel,\n\u001b[0;32m    <a href='file:///c%3A/Users/muralee/anaconda3/envs/msc_project/lib/site-packages/pandas/util/_decorators.py?line=309'>310</a>\u001b[0m     )\n\u001b[1;32m--> <a href='file:///c%3A/Users/muralee/anaconda3/envs/msc_project/lib/site-packages/pandas/util/_decorators.py?line=310'>311</a>\u001b[0m \u001b[39mreturn\u001b[39;00m func(\u001b[39m*\u001b[39margs, \u001b[39m*\u001b[39m\u001b[39m*\u001b[39mkwargs)\n",
      "File \u001b[1;32mc:\\Users\\muralee\\anaconda3\\envs\\msc_project\\lib\\site-packages\\pandas\\core\\frame.py:4954\u001b[0m, in \u001b[0;36mDataFrame.drop\u001b[1;34m(self, labels, axis, index, columns, level, inplace, errors)\u001b[0m\n\u001b[0;32m   <a href='file:///c%3A/Users/muralee/anaconda3/envs/msc_project/lib/site-packages/pandas/core/frame.py?line=4805'>4806</a>\u001b[0m \u001b[39m@deprecate_nonkeyword_arguments\u001b[39m(version\u001b[39m=\u001b[39m\u001b[39mNone\u001b[39;00m, allowed_args\u001b[39m=\u001b[39m[\u001b[39m\"\u001b[39m\u001b[39mself\u001b[39m\u001b[39m\"\u001b[39m, \u001b[39m\"\u001b[39m\u001b[39mlabels\u001b[39m\u001b[39m\"\u001b[39m])\n\u001b[0;32m   <a href='file:///c%3A/Users/muralee/anaconda3/envs/msc_project/lib/site-packages/pandas/core/frame.py?line=4806'>4807</a>\u001b[0m \u001b[39mdef\u001b[39;00m \u001b[39mdrop\u001b[39m(\n\u001b[0;32m   <a href='file:///c%3A/Users/muralee/anaconda3/envs/msc_project/lib/site-packages/pandas/core/frame.py?line=4807'>4808</a>\u001b[0m     \u001b[39mself\u001b[39m,\n\u001b[1;32m   (...)\u001b[0m\n\u001b[0;32m   <a href='file:///c%3A/Users/muralee/anaconda3/envs/msc_project/lib/site-packages/pandas/core/frame.py?line=4814'>4815</a>\u001b[0m     errors: \u001b[39mstr\u001b[39m \u001b[39m=\u001b[39m \u001b[39m\"\u001b[39m\u001b[39mraise\u001b[39m\u001b[39m\"\u001b[39m,\n\u001b[0;32m   <a href='file:///c%3A/Users/muralee/anaconda3/envs/msc_project/lib/site-packages/pandas/core/frame.py?line=4815'>4816</a>\u001b[0m ):\n\u001b[0;32m   <a href='file:///c%3A/Users/muralee/anaconda3/envs/msc_project/lib/site-packages/pandas/core/frame.py?line=4816'>4817</a>\u001b[0m     \u001b[39m\"\"\"\u001b[39;00m\n\u001b[0;32m   <a href='file:///c%3A/Users/muralee/anaconda3/envs/msc_project/lib/site-packages/pandas/core/frame.py?line=4817'>4818</a>\u001b[0m \u001b[39m    Drop specified labels from rows or columns.\u001b[39;00m\n\u001b[0;32m   <a href='file:///c%3A/Users/muralee/anaconda3/envs/msc_project/lib/site-packages/pandas/core/frame.py?line=4818'>4819</a>\u001b[0m \n\u001b[1;32m   (...)\u001b[0m\n\u001b[0;32m   <a href='file:///c%3A/Users/muralee/anaconda3/envs/msc_project/lib/site-packages/pandas/core/frame.py?line=4951'>4952</a>\u001b[0m \u001b[39m            weight  1.0     0.8\u001b[39;00m\n\u001b[0;32m   <a href='file:///c%3A/Users/muralee/anaconda3/envs/msc_project/lib/site-packages/pandas/core/frame.py?line=4952'>4953</a>\u001b[0m \u001b[39m    \"\"\"\u001b[39;00m\n\u001b[1;32m-> <a href='file:///c%3A/Users/muralee/anaconda3/envs/msc_project/lib/site-packages/pandas/core/frame.py?line=4953'>4954</a>\u001b[0m     \u001b[39mreturn\u001b[39;00m \u001b[39msuper\u001b[39;49m()\u001b[39m.\u001b[39;49mdrop(\n\u001b[0;32m   <a href='file:///c%3A/Users/muralee/anaconda3/envs/msc_project/lib/site-packages/pandas/core/frame.py?line=4954'>4955</a>\u001b[0m         labels\u001b[39m=\u001b[39;49mlabels,\n\u001b[0;32m   <a href='file:///c%3A/Users/muralee/anaconda3/envs/msc_project/lib/site-packages/pandas/core/frame.py?line=4955'>4956</a>\u001b[0m         axis\u001b[39m=\u001b[39;49maxis,\n\u001b[0;32m   <a href='file:///c%3A/Users/muralee/anaconda3/envs/msc_project/lib/site-packages/pandas/core/frame.py?line=4956'>4957</a>\u001b[0m         index\u001b[39m=\u001b[39;49mindex,\n\u001b[0;32m   <a href='file:///c%3A/Users/muralee/anaconda3/envs/msc_project/lib/site-packages/pandas/core/frame.py?line=4957'>4958</a>\u001b[0m         columns\u001b[39m=\u001b[39;49mcolumns,\n\u001b[0;32m   <a href='file:///c%3A/Users/muralee/anaconda3/envs/msc_project/lib/site-packages/pandas/core/frame.py?line=4958'>4959</a>\u001b[0m         level\u001b[39m=\u001b[39;49mlevel,\n\u001b[0;32m   <a href='file:///c%3A/Users/muralee/anaconda3/envs/msc_project/lib/site-packages/pandas/core/frame.py?line=4959'>4960</a>\u001b[0m         inplace\u001b[39m=\u001b[39;49minplace,\n\u001b[0;32m   <a href='file:///c%3A/Users/muralee/anaconda3/envs/msc_project/lib/site-packages/pandas/core/frame.py?line=4960'>4961</a>\u001b[0m         errors\u001b[39m=\u001b[39;49merrors,\n\u001b[0;32m   <a href='file:///c%3A/Users/muralee/anaconda3/envs/msc_project/lib/site-packages/pandas/core/frame.py?line=4961'>4962</a>\u001b[0m     )\n",
      "File \u001b[1;32mc:\\Users\\muralee\\anaconda3\\envs\\msc_project\\lib\\site-packages\\pandas\\core\\generic.py:4267\u001b[0m, in \u001b[0;36mNDFrame.drop\u001b[1;34m(self, labels, axis, index, columns, level, inplace, errors)\u001b[0m\n\u001b[0;32m   <a href='file:///c%3A/Users/muralee/anaconda3/envs/msc_project/lib/site-packages/pandas/core/generic.py?line=4264'>4265</a>\u001b[0m \u001b[39mfor\u001b[39;00m axis, labels \u001b[39min\u001b[39;00m axes\u001b[39m.\u001b[39mitems():\n\u001b[0;32m   <a href='file:///c%3A/Users/muralee/anaconda3/envs/msc_project/lib/site-packages/pandas/core/generic.py?line=4265'>4266</a>\u001b[0m     \u001b[39mif\u001b[39;00m labels \u001b[39mis\u001b[39;00m \u001b[39mnot\u001b[39;00m \u001b[39mNone\u001b[39;00m:\n\u001b[1;32m-> <a href='file:///c%3A/Users/muralee/anaconda3/envs/msc_project/lib/site-packages/pandas/core/generic.py?line=4266'>4267</a>\u001b[0m         obj \u001b[39m=\u001b[39m obj\u001b[39m.\u001b[39;49m_drop_axis(labels, axis, level\u001b[39m=\u001b[39;49mlevel, errors\u001b[39m=\u001b[39;49merrors)\n\u001b[0;32m   <a href='file:///c%3A/Users/muralee/anaconda3/envs/msc_project/lib/site-packages/pandas/core/generic.py?line=4268'>4269</a>\u001b[0m \u001b[39mif\u001b[39;00m inplace:\n\u001b[0;32m   <a href='file:///c%3A/Users/muralee/anaconda3/envs/msc_project/lib/site-packages/pandas/core/generic.py?line=4269'>4270</a>\u001b[0m     \u001b[39mself\u001b[39m\u001b[39m.\u001b[39m_update_inplace(obj)\n",
      "File \u001b[1;32mc:\\Users\\muralee\\anaconda3\\envs\\msc_project\\lib\\site-packages\\pandas\\core\\generic.py:4311\u001b[0m, in \u001b[0;36mNDFrame._drop_axis\u001b[1;34m(self, labels, axis, level, errors, consolidate, only_slice)\u001b[0m\n\u001b[0;32m   <a href='file:///c%3A/Users/muralee/anaconda3/envs/msc_project/lib/site-packages/pandas/core/generic.py?line=4308'>4309</a>\u001b[0m         new_axis \u001b[39m=\u001b[39m axis\u001b[39m.\u001b[39mdrop(labels, level\u001b[39m=\u001b[39mlevel, errors\u001b[39m=\u001b[39merrors)\n\u001b[0;32m   <a href='file:///c%3A/Users/muralee/anaconda3/envs/msc_project/lib/site-packages/pandas/core/generic.py?line=4309'>4310</a>\u001b[0m     \u001b[39melse\u001b[39;00m:\n\u001b[1;32m-> <a href='file:///c%3A/Users/muralee/anaconda3/envs/msc_project/lib/site-packages/pandas/core/generic.py?line=4310'>4311</a>\u001b[0m         new_axis \u001b[39m=\u001b[39m axis\u001b[39m.\u001b[39;49mdrop(labels, errors\u001b[39m=\u001b[39;49merrors)\n\u001b[0;32m   <a href='file:///c%3A/Users/muralee/anaconda3/envs/msc_project/lib/site-packages/pandas/core/generic.py?line=4311'>4312</a>\u001b[0m     indexer \u001b[39m=\u001b[39m axis\u001b[39m.\u001b[39mget_indexer(new_axis)\n\u001b[0;32m   <a href='file:///c%3A/Users/muralee/anaconda3/envs/msc_project/lib/site-packages/pandas/core/generic.py?line=4313'>4314</a>\u001b[0m \u001b[39m# Case for non-unique axis\u001b[39;00m\n\u001b[0;32m   <a href='file:///c%3A/Users/muralee/anaconda3/envs/msc_project/lib/site-packages/pandas/core/generic.py?line=4314'>4315</a>\u001b[0m \u001b[39melse\u001b[39;00m:\n",
      "File \u001b[1;32mc:\\Users\\muralee\\anaconda3\\envs\\msc_project\\lib\\site-packages\\pandas\\core\\indexes\\base.py:6644\u001b[0m, in \u001b[0;36mIndex.drop\u001b[1;34m(self, labels, errors)\u001b[0m\n\u001b[0;32m   <a href='file:///c%3A/Users/muralee/anaconda3/envs/msc_project/lib/site-packages/pandas/core/indexes/base.py?line=6641'>6642</a>\u001b[0m \u001b[39mif\u001b[39;00m mask\u001b[39m.\u001b[39many():\n\u001b[0;32m   <a href='file:///c%3A/Users/muralee/anaconda3/envs/msc_project/lib/site-packages/pandas/core/indexes/base.py?line=6642'>6643</a>\u001b[0m     \u001b[39mif\u001b[39;00m errors \u001b[39m!=\u001b[39m \u001b[39m\"\u001b[39m\u001b[39mignore\u001b[39m\u001b[39m\"\u001b[39m:\n\u001b[1;32m-> <a href='file:///c%3A/Users/muralee/anaconda3/envs/msc_project/lib/site-packages/pandas/core/indexes/base.py?line=6643'>6644</a>\u001b[0m         \u001b[39mraise\u001b[39;00m \u001b[39mKeyError\u001b[39;00m(\u001b[39mf\u001b[39m\u001b[39m\"\u001b[39m\u001b[39m{\u001b[39;00m\u001b[39mlist\u001b[39m(labels[mask])\u001b[39m}\u001b[39;00m\u001b[39m not found in axis\u001b[39m\u001b[39m\"\u001b[39m)\n\u001b[0;32m   <a href='file:///c%3A/Users/muralee/anaconda3/envs/msc_project/lib/site-packages/pandas/core/indexes/base.py?line=6644'>6645</a>\u001b[0m     indexer \u001b[39m=\u001b[39m indexer[\u001b[39m~\u001b[39mmask]\n\u001b[0;32m   <a href='file:///c%3A/Users/muralee/anaconda3/envs/msc_project/lib/site-packages/pandas/core/indexes/base.py?line=6645'>6646</a>\u001b[0m \u001b[39mreturn\u001b[39;00m \u001b[39mself\u001b[39m\u001b[39m.\u001b[39mdelete(indexer)\n",
      "\u001b[1;31mKeyError\u001b[0m: \"['S_Invoice_No', 'item_Code', 'description', 'Profit', 'description', 'Purchases_price'] not found in axis\""
     ]
    }
   ],
   "source": [
    "edfa=df.loc[df['description']=='GREEN GRAN']\n",
    "dfa=dfa.drop(['S_Invoice_No','item_Code','description','Profit','description','Purchases_price'], axis = 1)\n",
    "dfa['S_Date'] = dfa['S_Date'].astype('datetime64[ns]')\n",
    "\n",
    "x=dfa.set_index('S_Date').resample('W-Sun')['Sale_Price'].mean()\n",
    "df_gran= pd.DataFrame(x)\n",
    "df_gran.rename(columns={'Sale_Price':'fran_Sale_price'}, inplace=True)\n",
    "\n",
    "ze=dfa.set_index('S_Date').resample('W-Sun')['item_Qty'].sum()\n",
    "dfzze= pd.DataFrame(ze)\n",
    "dfzze.rename(columns={'item_Qty':'gran_total_item_Qty'}, inplace=True)\n",
    "\n",
    "df_gran['gran_total_item_Qty'] = dfzze['gran_total_item_Qty'].values\n",
    "df_gran['gran_total_item_Qty']=df_gran['gran_total_item_Qty'].shift(1)\n",
    "print(df_gran.shape)\n",
    "df_gran.head()"
   ]
  },
  {
   "cell_type": "code",
   "execution_count": null,
   "id": "english-nicholas",
   "metadata": {},
   "outputs": [
    {
     "name": "stdout",
     "output_type": "stream",
     "text": [
      "(178, 2)\n"
     ]
    },
    {
     "data": {
      "text/html": [
       "<div>\n",
       "<style scoped>\n",
       "    .dataframe tbody tr th:only-of-type {\n",
       "        vertical-align: middle;\n",
       "    }\n",
       "\n",
       "    .dataframe tbody tr th {\n",
       "        vertical-align: top;\n",
       "    }\n",
       "\n",
       "    .dataframe thead th {\n",
       "        text-align: right;\n",
       "    }\n",
       "</style>\n",
       "<table border=\"1\" class=\"dataframe\">\n",
       "  <thead>\n",
       "    <tr style=\"text-align: right;\">\n",
       "      <th></th>\n",
       "      <th>nadu_Sale_price</th>\n",
       "      <th>nadu_total_item_Qty</th>\n",
       "    </tr>\n",
       "    <tr>\n",
       "      <th>S_Date</th>\n",
       "      <th></th>\n",
       "      <th></th>\n",
       "    </tr>\n",
       "  </thead>\n",
       "  <tbody>\n",
       "    <tr>\n",
       "      <th>2016-07-03</th>\n",
       "      <td>325.000000</td>\n",
       "      <td>NaN</td>\n",
       "    </tr>\n",
       "    <tr>\n",
       "      <th>2016-07-10</th>\n",
       "      <td>339.130435</td>\n",
       "      <td>1.0</td>\n",
       "    </tr>\n",
       "    <tr>\n",
       "      <th>2016-07-17</th>\n",
       "      <td>350.000000</td>\n",
       "      <td>33.0</td>\n",
       "    </tr>\n",
       "    <tr>\n",
       "      <th>2016-07-24</th>\n",
       "      <td>350.000000</td>\n",
       "      <td>13.0</td>\n",
       "    </tr>\n",
       "    <tr>\n",
       "      <th>2016-07-31</th>\n",
       "      <td>350.000000</td>\n",
       "      <td>19.0</td>\n",
       "    </tr>\n",
       "  </tbody>\n",
       "</table>\n",
       "</div>"
      ],
      "text/plain": [
       "            nadu_Sale_price  nadu_total_item_Qty\n",
       "S_Date                                          \n",
       "2016-07-03       325.000000                  NaN\n",
       "2016-07-10       339.130435                  1.0\n",
       "2016-07-17       350.000000                 33.0\n",
       "2016-07-24       350.000000                 13.0\n",
       "2016-07-31       350.000000                 19.0"
      ]
     },
     "execution_count": 12,
     "metadata": {},
     "output_type": "execute_result"
    }
   ],
   "source": [
    "dfa=df.loc[df['description']=='RED NADU']\n",
    "dfa=dfa.drop(['S_Invoice_No','item_Code','description','description'], axis = 1)\n",
    "dfa['S_Date'] = dfa['S_Date'].astype('datetime64[ns]')\n",
    "\n",
    "x=dfa.set_index('S_Date').resample('W-Sun')['Sale_Price'].mean()\n",
    "df_nadu= pd.DataFrame(x)\n",
    "df_nadu.rename(columns={'Sale_Price':'nadu_Sale_price'}, inplace=True)\n",
    "\n",
    "ze=dfa.set_index('S_Date').resample('W-Sun')['item_Qty'].sum()\n",
    "dfzze= pd.DataFrame(ze)\n",
    "dfzze.rename(columns={'item_Qty':'nadu_total_item_Qty'}, inplace=True)\n",
    "\n",
    "df_nadu['nadu_total_item_Qty'] = dfzze['nadu_total_item_Qty'].values\n",
    "df_nadu['nadu_total_item_Qty']=df_nadu['nadu_total_item_Qty'].shift(1)\n",
    "\n",
    "print(df_nadu.shape)\n",
    "df_nadu.head()"
   ]
  },
  {
   "cell_type": "code",
   "execution_count": null,
   "id": "liberal-sending",
   "metadata": {},
   "outputs": [
    {
     "name": "stdout",
     "output_type": "stream",
     "text": [
      "(184, 2)\n"
     ]
    },
    {
     "data": {
      "text/html": [
       "<div>\n",
       "<style scoped>\n",
       "    .dataframe tbody tr th:only-of-type {\n",
       "        vertical-align: middle;\n",
       "    }\n",
       "\n",
       "    .dataframe tbody tr th {\n",
       "        vertical-align: top;\n",
       "    }\n",
       "\n",
       "    .dataframe thead th {\n",
       "        text-align: right;\n",
       "    }\n",
       "</style>\n",
       "<table border=\"1\" class=\"dataframe\">\n",
       "  <thead>\n",
       "    <tr style=\"text-align: right;\">\n",
       "      <th></th>\n",
       "      <th>udhall_Sale_price</th>\n",
       "      <th>udhall_total_item_Qty</th>\n",
       "    </tr>\n",
       "    <tr>\n",
       "      <th>S_Date</th>\n",
       "      <th></th>\n",
       "      <th></th>\n",
       "    </tr>\n",
       "  </thead>\n",
       "  <tbody>\n",
       "    <tr>\n",
       "      <th>2016-07-03</th>\n",
       "      <td>400.000000</td>\n",
       "      <td>NaN</td>\n",
       "    </tr>\n",
       "    <tr>\n",
       "      <th>2016-07-10</th>\n",
       "      <td>358.000000</td>\n",
       "      <td>1.00</td>\n",
       "    </tr>\n",
       "    <tr>\n",
       "      <th>2016-07-17</th>\n",
       "      <td>358.000000</td>\n",
       "      <td>23.20</td>\n",
       "    </tr>\n",
       "    <tr>\n",
       "      <th>2016-07-24</th>\n",
       "      <td>356.066667</td>\n",
       "      <td>14.73</td>\n",
       "    </tr>\n",
       "    <tr>\n",
       "      <th>2016-07-31</th>\n",
       "      <td>358.952381</td>\n",
       "      <td>34.23</td>\n",
       "    </tr>\n",
       "  </tbody>\n",
       "</table>\n",
       "</div>"
      ],
      "text/plain": [
       "            udhall_Sale_price  udhall_total_item_Qty\n",
       "S_Date                                              \n",
       "2016-07-03         400.000000                    NaN\n",
       "2016-07-10         358.000000                   1.00\n",
       "2016-07-17         358.000000                  23.20\n",
       "2016-07-24         356.066667                  14.73\n",
       "2016-07-31         358.952381                  34.23"
      ]
     },
     "execution_count": 13,
     "metadata": {},
     "output_type": "execute_result"
    }
   ],
   "source": [
    "dfa=df.loc[df['description']=='UDHALL']\n",
    "dfa=dfa.drop(['S_Invoice_No','item_Code','description','Profit','description','Purchases_price'], axis = 1)\n",
    "dfa['S_Date'] = dfa['S_Date'].astype('datetime64[ns]')\n",
    "\n",
    "x=dfa.set_index('S_Date').resample('W-Sun')['Sale_Price'].mean()\n",
    "df_udhall= pd.DataFrame(x)\n",
    "df_udhall.rename(columns={'Sale_Price':'udhall_Sale_price'}, inplace=True)\n",
    "\n",
    "ze=dfa.set_index('S_Date').resample('W-Sun')['item_Qty'].sum()\n",
    "dfzze= pd.DataFrame(ze)\n",
    "dfzze.rename(columns={'item_Qty':'udhall_total_item_Qty'}, inplace=True)\n",
    "\n",
    "df_udhall['udhall_total_item_Qty'] = dfzze['udhall_total_item_Qty'].values\n",
    "df_udhall['udhall_total_item_Qty']=df_udhall['udhall_total_item_Qty'].shift(1)\n",
    "print(df_udhall.shape)\n",
    "df_udhall.head()"
   ]
  },
  {
   "cell_type": "code",
   "execution_count": null,
   "id": "capable-gender",
   "metadata": {},
   "outputs": [
    {
     "name": "stdout",
     "output_type": "stream",
     "text": [
      "(184, 2)\n"
     ]
    },
    {
     "data": {
      "text/html": [
       "<div>\n",
       "<style scoped>\n",
       "    .dataframe tbody tr th:only-of-type {\n",
       "        vertical-align: middle;\n",
       "    }\n",
       "\n",
       "    .dataframe tbody tr th {\n",
       "        vertical-align: top;\n",
       "    }\n",
       "\n",
       "    .dataframe thead th {\n",
       "        text-align: right;\n",
       "    }\n",
       "</style>\n",
       "<table border=\"1\" class=\"dataframe\">\n",
       "  <thead>\n",
       "    <tr style=\"text-align: right;\">\n",
       "      <th></th>\n",
       "      <th>dhall_Sale_price</th>\n",
       "      <th>dhall_total_item_Qty</th>\n",
       "    </tr>\n",
       "    <tr>\n",
       "      <th>S_Date</th>\n",
       "      <th></th>\n",
       "      <th></th>\n",
       "    </tr>\n",
       "  </thead>\n",
       "  <tbody>\n",
       "    <tr>\n",
       "      <th>2016-07-03</th>\n",
       "      <td>189.000000</td>\n",
       "      <td>NaN</td>\n",
       "    </tr>\n",
       "    <tr>\n",
       "      <th>2016-07-10</th>\n",
       "      <td>188.926829</td>\n",
       "      <td>4.00</td>\n",
       "    </tr>\n",
       "    <tr>\n",
       "      <th>2016-07-17</th>\n",
       "      <td>192.000000</td>\n",
       "      <td>58.00</td>\n",
       "    </tr>\n",
       "    <tr>\n",
       "      <th>2016-07-24</th>\n",
       "      <td>192.000000</td>\n",
       "      <td>38.10</td>\n",
       "    </tr>\n",
       "    <tr>\n",
       "      <th>2016-07-31</th>\n",
       "      <td>195.818182</td>\n",
       "      <td>45.35</td>\n",
       "    </tr>\n",
       "  </tbody>\n",
       "</table>\n",
       "</div>"
      ],
      "text/plain": [
       "            dhall_Sale_price  dhall_total_item_Qty\n",
       "S_Date                                            \n",
       "2016-07-03        189.000000                   NaN\n",
       "2016-07-10        188.926829                  4.00\n",
       "2016-07-17        192.000000                 58.00\n",
       "2016-07-24        192.000000                 38.10\n",
       "2016-07-31        195.818182                 45.35"
      ]
     },
     "execution_count": 14,
     "metadata": {},
     "output_type": "execute_result"
    }
   ],
   "source": [
    "dfa=df.loc[df['description']=='YELLOW DHALL']\n",
    "dfa=dfa.drop(['S_Invoice_No','item_Code','description','Profit','description','Purchases_price'], axis = 1)\n",
    "dfa['S_Date'] = dfa['S_Date'].astype('datetime64[ns]')\n",
    "\n",
    "x=dfa.set_index('S_Date').resample('W-Sun')['Sale_Price'].mean()\n",
    "df_dhall= pd.DataFrame(x)\n",
    "df_dhall.rename(columns={'Sale_Price':'dhall_Sale_price'}, inplace=True)\n",
    "\n",
    "ze=dfa.set_index('S_Date').resample('W-Sun')['item_Qty'].sum()\n",
    "dfzze= pd.DataFrame(ze)\n",
    "dfzze.rename(columns={'item_Qty':'dhall_total_item_Qty'}, inplace=True)\n",
    "\n",
    "df_dhall['dhall_total_item_Qty'] = dfzze['dhall_total_item_Qty'].values\n",
    "df_dhall['dhall_total_item_Qty']=df_dhall['dhall_total_item_Qty'].shift(1)\n",
    "print(df_dhall.shape)\n",
    "df_dhall.head()"
   ]
  },
  {
   "cell_type": "code",
   "execution_count": null,
   "id": "f027e9ba",
   "metadata": {},
   "outputs": [
    {
     "name": "stdout",
     "output_type": "stream",
     "text": [
      "(45, 2)\n"
     ]
    },
    {
     "data": {
      "text/html": [
       "<div>\n",
       "<style scoped>\n",
       "    .dataframe tbody tr th:only-of-type {\n",
       "        vertical-align: middle;\n",
       "    }\n",
       "\n",
       "    .dataframe tbody tr th {\n",
       "        vertical-align: top;\n",
       "    }\n",
       "\n",
       "    .dataframe thead th {\n",
       "        text-align: right;\n",
       "    }\n",
       "</style>\n",
       "<table border=\"1\" class=\"dataframe\">\n",
       "  <thead>\n",
       "    <tr style=\"text-align: right;\">\n",
       "      <th></th>\n",
       "      <th>cannedfish_Sale_price</th>\n",
       "      <th>cannedfish_total_item_Qty</th>\n",
       "    </tr>\n",
       "    <tr>\n",
       "      <th>S_Date</th>\n",
       "      <th></th>\n",
       "      <th></th>\n",
       "    </tr>\n",
       "  </thead>\n",
       "  <tbody>\n",
       "    <tr>\n",
       "      <th>2016-07-17</th>\n",
       "      <td>210.0</td>\n",
       "      <td>NaN</td>\n",
       "    </tr>\n",
       "    <tr>\n",
       "      <th>2016-07-24</th>\n",
       "      <td>210.0</td>\n",
       "      <td>4.0</td>\n",
       "    </tr>\n",
       "    <tr>\n",
       "      <th>2016-07-31</th>\n",
       "      <td>210.0</td>\n",
       "      <td>20.0</td>\n",
       "    </tr>\n",
       "    <tr>\n",
       "      <th>2016-08-07</th>\n",
       "      <td>210.0</td>\n",
       "      <td>1.0</td>\n",
       "    </tr>\n",
       "    <tr>\n",
       "      <th>2016-08-14</th>\n",
       "      <td>210.0</td>\n",
       "      <td>50.0</td>\n",
       "    </tr>\n",
       "  </tbody>\n",
       "</table>\n",
       "</div>"
      ],
      "text/plain": [
       "            cannedfish_Sale_price  cannedfish_total_item_Qty\n",
       "S_Date                                                      \n",
       "2016-07-17                  210.0                        NaN\n",
       "2016-07-24                  210.0                        4.0\n",
       "2016-07-31                  210.0                       20.0\n",
       "2016-08-07                  210.0                        1.0\n",
       "2016-08-14                  210.0                       50.0"
      ]
     },
     "execution_count": 15,
     "metadata": {},
     "output_type": "execute_result"
    }
   ],
   "source": [
    "dfa = df.loc[df['description'] == 'CANNED FISH 260G']\n",
    "dfa = dfa.drop(['S_Invoice_No', 'item_Code', 'description',\n",
    "               'Profit', 'description', 'Purchases_price'], axis=1)\n",
    "dfa['S_Date'] = dfa['S_Date'].astype('datetime64[ns]')\n",
    "\n",
    "x = dfa.set_index('S_Date').resample('W-Sun')['Sale_Price'].mean()\n",
    "df_cannedfish = pd.DataFrame(x)\n",
    "df_cannedfish.rename(\n",
    "    columns={'Sale_Price': 'cannedfish_Sale_price'}, inplace=True)\n",
    "\n",
    "ze = dfa.set_index('S_Date').resample('W-Sun')['item_Qty'].sum()\n",
    "dfzze = pd.DataFrame(ze)\n",
    "dfzze.rename(columns={'item_Qty': 'cannedfish_total_item_Qty'}, inplace=True)\n",
    "\n",
    "df_cannedfish['cannedfish_total_item_Qty'] = dfzze['cannedfish_total_item_Qty'].values\n",
    "df_cannedfish['cannedfish_total_item_Qty'] = df_cannedfish['cannedfish_total_item_Qty'].shift(\n",
    "    1)\n",
    "print(df_cannedfish.shape)\n",
    "df_cannedfish.head()\n"
   ]
  },
  {
   "cell_type": "code",
   "execution_count": null,
   "id": "f3ecc750",
   "metadata": {},
   "outputs": [
    {
     "name": "stdout",
     "output_type": "stream",
     "text": [
      "(184, 2)\n"
     ]
    },
    {
     "data": {
      "text/html": [
       "<div>\n",
       "<style scoped>\n",
       "    .dataframe tbody tr th:only-of-type {\n",
       "        vertical-align: middle;\n",
       "    }\n",
       "\n",
       "    .dataframe tbody tr th {\n",
       "        vertical-align: top;\n",
       "    }\n",
       "\n",
       "    .dataframe thead th {\n",
       "        text-align: right;\n",
       "    }\n",
       "</style>\n",
       "<table border=\"1\" class=\"dataframe\">\n",
       "  <thead>\n",
       "    <tr style=\"text-align: right;\">\n",
       "      <th></th>\n",
       "      <th>egg_Sale_price</th>\n",
       "      <th>egg_total_item_Qty</th>\n",
       "    </tr>\n",
       "    <tr>\n",
       "      <th>S_Date</th>\n",
       "      <th></th>\n",
       "      <th></th>\n",
       "    </tr>\n",
       "  </thead>\n",
       "  <tbody>\n",
       "    <tr>\n",
       "      <th>2016-07-03</th>\n",
       "      <td>18.000000</td>\n",
       "      <td>NaN</td>\n",
       "    </tr>\n",
       "    <tr>\n",
       "      <th>2016-07-10</th>\n",
       "      <td>18.000000</td>\n",
       "      <td>50.0</td>\n",
       "    </tr>\n",
       "    <tr>\n",
       "      <th>2016-07-17</th>\n",
       "      <td>20.133333</td>\n",
       "      <td>135.0</td>\n",
       "    </tr>\n",
       "    <tr>\n",
       "      <th>2016-07-24</th>\n",
       "      <td>22.000000</td>\n",
       "      <td>283.0</td>\n",
       "    </tr>\n",
       "    <tr>\n",
       "      <th>2016-07-31</th>\n",
       "      <td>22.000000</td>\n",
       "      <td>226.0</td>\n",
       "    </tr>\n",
       "  </tbody>\n",
       "</table>\n",
       "</div>"
      ],
      "text/plain": [
       "            egg_Sale_price  egg_total_item_Qty\n",
       "S_Date                                        \n",
       "2016-07-03       18.000000                 NaN\n",
       "2016-07-10       18.000000                50.0\n",
       "2016-07-17       20.133333               135.0\n",
       "2016-07-24       22.000000               283.0\n",
       "2016-07-31       22.000000               226.0"
      ]
     },
     "execution_count": 16,
     "metadata": {},
     "output_type": "execute_result"
    }
   ],
   "source": [
    "dfa = df.loc[df['description'] == 'EGG']\n",
    "dfa = dfa.drop(['S_Invoice_No', 'item_Code', 'description',\n",
    "               'Profit', 'description', 'Purchases_price'], axis=1)\n",
    "dfa['S_Date'] = dfa['S_Date'].astype('datetime64[ns]')\n",
    "\n",
    "x = dfa.set_index('S_Date').resample('W-Sun')['Sale_Price'].mean()\n",
    "df_egg = pd.DataFrame(x)\n",
    "df_egg.rename(\n",
    "    columns={'Sale_Price': 'egg_Sale_price'}, inplace=True)\n",
    "\n",
    "ze = dfa.set_index('S_Date').resample('W-Sun')['item_Qty'].sum()\n",
    "dfzze = pd.DataFrame(ze)\n",
    "dfzze.rename(columns={'item_Qty': 'egg_total_item_Qty'}, inplace=True)\n",
    "\n",
    "df_egg['egg_total_item_Qty'] = dfzze['egg_total_item_Qty'].values\n",
    "df_egg['egg_total_item_Qty'] = df_egg['egg_total_item_Qty'].shift(\n",
    "    1)\n",
    "print(df_egg.shape)\n",
    "df_egg.head()\n"
   ]
  },
  {
   "cell_type": "code",
   "execution_count": null,
   "id": "5fe67420",
   "metadata": {},
   "outputs": [
    {
     "name": "stdout",
     "output_type": "stream",
     "text": [
      "(184, 2)\n"
     ]
    },
    {
     "data": {
      "text/html": [
       "<div>\n",
       "<style scoped>\n",
       "    .dataframe tbody tr th:only-of-type {\n",
       "        vertical-align: middle;\n",
       "    }\n",
       "\n",
       "    .dataframe tbody tr th {\n",
       "        vertical-align: top;\n",
       "    }\n",
       "\n",
       "    .dataframe thead th {\n",
       "        text-align: right;\n",
       "    }\n",
       "</style>\n",
       "<table border=\"1\" class=\"dataframe\">\n",
       "  <thead>\n",
       "    <tr style=\"text-align: right;\">\n",
       "      <th></th>\n",
       "      <th>datecrown_Sale_price</th>\n",
       "      <th>datecrown_total_item_Qty</th>\n",
       "    </tr>\n",
       "    <tr>\n",
       "      <th>S_Date</th>\n",
       "      <th></th>\n",
       "      <th></th>\n",
       "    </tr>\n",
       "  </thead>\n",
       "  <tbody>\n",
       "    <tr>\n",
       "      <th>2016-07-03</th>\n",
       "      <td>250.0</td>\n",
       "      <td>NaN</td>\n",
       "    </tr>\n",
       "    <tr>\n",
       "      <th>2016-07-10</th>\n",
       "      <td>250.0</td>\n",
       "      <td>4.410</td>\n",
       "    </tr>\n",
       "    <tr>\n",
       "      <th>2016-07-17</th>\n",
       "      <td>250.0</td>\n",
       "      <td>13.110</td>\n",
       "    </tr>\n",
       "    <tr>\n",
       "      <th>2016-07-24</th>\n",
       "      <td>250.0</td>\n",
       "      <td>6.280</td>\n",
       "    </tr>\n",
       "    <tr>\n",
       "      <th>2016-07-31</th>\n",
       "      <td>250.0</td>\n",
       "      <td>11.195</td>\n",
       "    </tr>\n",
       "  </tbody>\n",
       "</table>\n",
       "</div>"
      ],
      "text/plain": [
       "            datecrown_Sale_price  datecrown_total_item_Qty\n",
       "S_Date                                                    \n",
       "2016-07-03                 250.0                       NaN\n",
       "2016-07-10                 250.0                     4.410\n",
       "2016-07-17                 250.0                    13.110\n",
       "2016-07-24                 250.0                     6.280\n",
       "2016-07-31                 250.0                    11.195"
      ]
     },
     "execution_count": 17,
     "metadata": {},
     "output_type": "execute_result"
    }
   ],
   "source": [
    "dfa = df.loc[df['description'] == 'DATE CROWN']\n",
    "dfa = dfa.drop(['S_Invoice_No', 'item_Code', 'description', 'Profit', 'description', 'Purchases_price'], axis=1)\n",
    "dfa['S_Date'] = dfa['S_Date'].astype('datetime64[ns]')\n",
    "\n",
    "x = dfa.set_index('S_Date').resample('W-Sun')['Sale_Price'].mean()\n",
    "df_datecrown = pd.DataFrame(x)\n",
    "df_datecrown.rename(columns={'Sale_Price': 'datecrown_Sale_price'}, inplace=True)\n",
    "\n",
    "ze = dfa.set_index('S_Date').resample('W-Sun')['item_Qty'].sum()\n",
    "dfzze = pd.DataFrame(ze)\n",
    "dfzze.rename(columns={'item_Qty': 'datecrown_total_item_Qty'}, inplace=True)\n",
    "\n",
    "df_datecrown['datecrown_total_item_Qty'] = dfzze['datecrown_total_item_Qty'].values\n",
    "df_datecrown['datecrown_total_item_Qty'] = df_datecrown['datecrown_total_item_Qty'].shift(\n",
    "    1)\n",
    "print(df_datecrown.shape)\n",
    "df_datecrown.head()\n"
   ]
  },
  {
   "cell_type": "code",
   "execution_count": null,
   "id": "political-botswana",
   "metadata": {},
   "outputs": [
    {
     "data": {
      "text/html": [
       "<div>\n",
       "<style scoped>\n",
       "    .dataframe tbody tr th:only-of-type {\n",
       "        vertical-align: middle;\n",
       "    }\n",
       "\n",
       "    .dataframe tbody tr th {\n",
       "        vertical-align: top;\n",
       "    }\n",
       "\n",
       "    .dataframe thead th {\n",
       "        text-align: right;\n",
       "    }\n",
       "</style>\n",
       "<table border=\"1\" class=\"dataframe\">\n",
       "  <thead>\n",
       "    <tr style=\"text-align: right;\">\n",
       "      <th></th>\n",
       "      <th>Holidays on weekdays</th>\n",
       "      <th>Holidays on weekends</th>\n",
       "      <th>Hindu/Christ holidays</th>\n",
       "      <th>total_holidays_weekly</th>\n",
       "    </tr>\n",
       "    <tr>\n",
       "      <th>S_Date</th>\n",
       "      <th></th>\n",
       "      <th></th>\n",
       "      <th></th>\n",
       "      <th></th>\n",
       "    </tr>\n",
       "  </thead>\n",
       "  <tbody>\n",
       "    <tr>\n",
       "      <th>2016-06-26</th>\n",
       "      <td>0</td>\n",
       "      <td>0</td>\n",
       "      <td>0</td>\n",
       "      <td>0</td>\n",
       "    </tr>\n",
       "    <tr>\n",
       "      <th>2016-07-03</th>\n",
       "      <td>0</td>\n",
       "      <td>0</td>\n",
       "      <td>0</td>\n",
       "      <td>0</td>\n",
       "    </tr>\n",
       "    <tr>\n",
       "      <th>2016-07-10</th>\n",
       "      <td>1</td>\n",
       "      <td>0</td>\n",
       "      <td>0</td>\n",
       "      <td>1</td>\n",
       "    </tr>\n",
       "    <tr>\n",
       "      <th>2016-07-17</th>\n",
       "      <td>0</td>\n",
       "      <td>0</td>\n",
       "      <td>0</td>\n",
       "      <td>0</td>\n",
       "    </tr>\n",
       "    <tr>\n",
       "      <th>2016-07-24</th>\n",
       "      <td>0</td>\n",
       "      <td>0</td>\n",
       "      <td>0</td>\n",
       "      <td>0</td>\n",
       "    </tr>\n",
       "  </tbody>\n",
       "</table>\n",
       "</div>"
      ],
      "text/plain": [
       "            Holidays on weekdays  Holidays on weekends  Hindu/Christ holidays  \\\n",
       "S_Date                                                                          \n",
       "2016-06-26                     0                     0                      0   \n",
       "2016-07-03                     0                     0                      0   \n",
       "2016-07-10                     1                     0                      0   \n",
       "2016-07-17                     0                     0                      0   \n",
       "2016-07-24                     0                     0                      0   \n",
       "\n",
       "            total_holidays_weekly  \n",
       "S_Date                             \n",
       "2016-06-26                      0  \n",
       "2016-07-03                      0  \n",
       "2016-07-10                      1  \n",
       "2016-07-17                      0  \n",
       "2016-07-24                      0  "
      ]
     },
     "execution_count": 18,
     "metadata": {},
     "output_type": "execute_result"
    }
   ],
   "source": [
    "aa=df.set_index('S_Date').resample('W-Sun')['Holidays on weekdays'].sum()\n",
    "df_holidays= pd.DataFrame(aa)\n",
    "df_holidays.rename(columns={'Holidays on weekdays':'Holidays on weekdays'}, inplace=True)\n",
    "\n",
    "\n",
    "ab=df.set_index('S_Date').resample('W-Sun')['Holidays on weekends'].sum()\n",
    "dfab= pd.DataFrame(ab)\n",
    "dfab.rename(columns={'Holidays on weekends':'Holidays on weekends'}, inplace=True)\n",
    "\n",
    "ac=df.set_index('S_Date').resample('W-Sun')['Hindu/Christ holidays'].sum()\n",
    "dfac= pd.DataFrame(ac)\n",
    "dfac.rename(columns={'Hindu/Christ holidays':'Hindu/Christ holidays'}, inplace=True)\n",
    "\n",
    "ad=df.set_index('S_Date').resample('W-Sun')['total_holidays_weekly'].sum()\n",
    "dfad= pd.DataFrame(ad)\n",
    "dfad.rename(columns={'total_holidays_weekly':'total_holidays_weekly'}, inplace=True)\n",
    "\n",
    "\n",
    "df_holidays['Holidays on weekends'] = dfab['Holidays on weekends'].values\n",
    "df_holidays['Hindu/Christ holidays'] = dfac['Hindu/Christ holidays'].values\n",
    "df_holidays['total_holidays_weekly'] = dfad['total_holidays_weekly'].values\n",
    "\n",
    "df_holidays.head()"
   ]
  },
  {
   "cell_type": "code",
   "execution_count": null,
   "id": "knowing-magnet",
   "metadata": {},
   "outputs": [
    {
     "name": "stdout",
     "output_type": "stream",
     "text": [
      "(184, 17)\n",
      "(184, 21)\n",
      "(184, 23)\n",
      "(184, 25)\n",
      "(184, 27)\n",
      "(185, 31)\n",
      "(185, 31)\n",
      "(185, 31)\n",
      "(185, 31)\n"
     ]
    },
    {
     "data": {
      "text/html": [
       "<div>\n",
       "<style scoped>\n",
       "    .dataframe tbody tr th:only-of-type {\n",
       "        vertical-align: middle;\n",
       "    }\n",
       "\n",
       "    .dataframe tbody tr th {\n",
       "        vertical-align: top;\n",
       "    }\n",
       "\n",
       "    .dataframe thead th {\n",
       "        text-align: right;\n",
       "    }\n",
       "</style>\n",
       "<table border=\"1\" class=\"dataframe\">\n",
       "  <thead>\n",
       "    <tr style=\"text-align: right;\">\n",
       "      <th></th>\n",
       "      <th>S_Date</th>\n",
       "      <th>Kowpi_Sale_price</th>\n",
       "      <th>Kowpi_total_item_Qty</th>\n",
       "      <th>Kowpi_weeksbefore_sale</th>\n",
       "      <th>Kowpi_2weeksbefore_sale</th>\n",
       "      <th>Kowpi_3weeksbefore_sale</th>\n",
       "      <th>Kowpi_4weeksbefore_sale</th>\n",
       "      <th>Kowpi_last2weeks_totalsale</th>\n",
       "      <th>Kowpi_last3weeks_totalsale</th>\n",
       "      <th>Kowpi_lastmonth_totalsale</th>\n",
       "      <th>...</th>\n",
       "      <th>nadu_Sale_price</th>\n",
       "      <th>nadu_total_item_Qty</th>\n",
       "      <th>udhall_Sale_price</th>\n",
       "      <th>udhall_total_item_Qty</th>\n",
       "      <th>dhall_Sale_price</th>\n",
       "      <th>dhall_total_item_Qty</th>\n",
       "      <th>Holidays on weekdays</th>\n",
       "      <th>Holidays on weekends</th>\n",
       "      <th>Hindu/Christ holidays</th>\n",
       "      <th>total_holidays_weekly</th>\n",
       "    </tr>\n",
       "  </thead>\n",
       "  <tbody>\n",
       "    <tr>\n",
       "      <th>179</th>\n",
       "      <td>2019-12-08</td>\n",
       "      <td>255.000000</td>\n",
       "      <td>16.600</td>\n",
       "      <td>18.200</td>\n",
       "      <td>13.735</td>\n",
       "      <td>24.585</td>\n",
       "      <td>32.900</td>\n",
       "      <td>31.935</td>\n",
       "      <td>56.520</td>\n",
       "      <td>89.42</td>\n",
       "      <td>...</td>\n",
       "      <td>NaN</td>\n",
       "      <td>NaN</td>\n",
       "      <td>410.0</td>\n",
       "      <td>7.45</td>\n",
       "      <td>145.0</td>\n",
       "      <td>30.32</td>\n",
       "      <td>0</td>\n",
       "      <td>0</td>\n",
       "      <td>0</td>\n",
       "      <td>0</td>\n",
       "    </tr>\n",
       "    <tr>\n",
       "      <th>180</th>\n",
       "      <td>2019-12-15</td>\n",
       "      <td>255.000000</td>\n",
       "      <td>24.115</td>\n",
       "      <td>16.600</td>\n",
       "      <td>18.200</td>\n",
       "      <td>13.735</td>\n",
       "      <td>24.585</td>\n",
       "      <td>34.800</td>\n",
       "      <td>48.535</td>\n",
       "      <td>73.12</td>\n",
       "      <td>...</td>\n",
       "      <td>NaN</td>\n",
       "      <td>NaN</td>\n",
       "      <td>410.0</td>\n",
       "      <td>12.46</td>\n",
       "      <td>145.0</td>\n",
       "      <td>30.61</td>\n",
       "      <td>0</td>\n",
       "      <td>0</td>\n",
       "      <td>0</td>\n",
       "      <td>0</td>\n",
       "    </tr>\n",
       "    <tr>\n",
       "      <th>181</th>\n",
       "      <td>2019-12-22</td>\n",
       "      <td>255.000000</td>\n",
       "      <td>29.215</td>\n",
       "      <td>24.115</td>\n",
       "      <td>16.600</td>\n",
       "      <td>18.200</td>\n",
       "      <td>13.735</td>\n",
       "      <td>40.715</td>\n",
       "      <td>58.915</td>\n",
       "      <td>72.65</td>\n",
       "      <td>...</td>\n",
       "      <td>NaN</td>\n",
       "      <td>NaN</td>\n",
       "      <td>400.0</td>\n",
       "      <td>14.15</td>\n",
       "      <td>145.0</td>\n",
       "      <td>29.82</td>\n",
       "      <td>0</td>\n",
       "      <td>0</td>\n",
       "      <td>0</td>\n",
       "      <td>0</td>\n",
       "    </tr>\n",
       "    <tr>\n",
       "      <th>182</th>\n",
       "      <td>2019-12-29</td>\n",
       "      <td>256.111111</td>\n",
       "      <td>10.700</td>\n",
       "      <td>29.215</td>\n",
       "      <td>24.115</td>\n",
       "      <td>16.600</td>\n",
       "      <td>18.200</td>\n",
       "      <td>53.330</td>\n",
       "      <td>69.930</td>\n",
       "      <td>88.13</td>\n",
       "      <td>...</td>\n",
       "      <td>NaN</td>\n",
       "      <td>NaN</td>\n",
       "      <td>400.0</td>\n",
       "      <td>12.50</td>\n",
       "      <td>145.0</td>\n",
       "      <td>42.93</td>\n",
       "      <td>1</td>\n",
       "      <td>0</td>\n",
       "      <td>1</td>\n",
       "      <td>1</td>\n",
       "    </tr>\n",
       "    <tr>\n",
       "      <th>183</th>\n",
       "      <td>2020-01-05</td>\n",
       "      <td>260.000000</td>\n",
       "      <td>3.350</td>\n",
       "      <td>10.700</td>\n",
       "      <td>29.215</td>\n",
       "      <td>24.115</td>\n",
       "      <td>16.600</td>\n",
       "      <td>39.915</td>\n",
       "      <td>64.030</td>\n",
       "      <td>80.63</td>\n",
       "      <td>...</td>\n",
       "      <td>NaN</td>\n",
       "      <td>NaN</td>\n",
       "      <td>420.0</td>\n",
       "      <td>12.95</td>\n",
       "      <td>145.0</td>\n",
       "      <td>29.50</td>\n",
       "      <td>0</td>\n",
       "      <td>0</td>\n",
       "      <td>0</td>\n",
       "      <td>0</td>\n",
       "    </tr>\n",
       "  </tbody>\n",
       "</table>\n",
       "<p>5 rows × 31 columns</p>\n",
       "</div>"
      ],
      "text/plain": [
       "        S_Date  Kowpi_Sale_price  Kowpi_total_item_Qty  \\\n",
       "179 2019-12-08        255.000000                16.600   \n",
       "180 2019-12-15        255.000000                24.115   \n",
       "181 2019-12-22        255.000000                29.215   \n",
       "182 2019-12-29        256.111111                10.700   \n",
       "183 2020-01-05        260.000000                 3.350   \n",
       "\n",
       "     Kowpi_weeksbefore_sale  Kowpi_2weeksbefore_sale  Kowpi_3weeksbefore_sale  \\\n",
       "179                  18.200                   13.735                   24.585   \n",
       "180                  16.600                   18.200                   13.735   \n",
       "181                  24.115                   16.600                   18.200   \n",
       "182                  29.215                   24.115                   16.600   \n",
       "183                  10.700                   29.215                   24.115   \n",
       "\n",
       "     Kowpi_4weeksbefore_sale  Kowpi_last2weeks_totalsale  \\\n",
       "179                   32.900                      31.935   \n",
       "180                   24.585                      34.800   \n",
       "181                   13.735                      40.715   \n",
       "182                   18.200                      53.330   \n",
       "183                   16.600                      39.915   \n",
       "\n",
       "     Kowpi_last3weeks_totalsale  Kowpi_lastmonth_totalsale  ...  \\\n",
       "179                      56.520                      89.42  ...   \n",
       "180                      48.535                      73.12  ...   \n",
       "181                      58.915                      72.65  ...   \n",
       "182                      69.930                      88.13  ...   \n",
       "183                      64.030                      80.63  ...   \n",
       "\n",
       "     nadu_Sale_price  nadu_total_item_Qty  udhall_Sale_price  \\\n",
       "179              NaN                  NaN              410.0   \n",
       "180              NaN                  NaN              410.0   \n",
       "181              NaN                  NaN              400.0   \n",
       "182              NaN                  NaN              400.0   \n",
       "183              NaN                  NaN              420.0   \n",
       "\n",
       "     udhall_total_item_Qty  dhall_Sale_price  dhall_total_item_Qty  \\\n",
       "179                   7.45             145.0                 30.32   \n",
       "180                  12.46             145.0                 30.61   \n",
       "181                  14.15             145.0                 29.82   \n",
       "182                  12.50             145.0                 42.93   \n",
       "183                  12.95             145.0                 29.50   \n",
       "\n",
       "     Holidays on weekdays  Holidays on weekends  Hindu/Christ holidays  \\\n",
       "179                     0                     0                      0   \n",
       "180                     0                     0                      0   \n",
       "181                     0                     0                      0   \n",
       "182                     1                     0                      1   \n",
       "183                     0                     0                      0   \n",
       "\n",
       "     total_holidays_weekly  \n",
       "179                      0  \n",
       "180                      0  \n",
       "181                      0  \n",
       "182                      1  \n",
       "183                      0  \n",
       "\n",
       "[5 rows x 31 columns]"
      ]
     },
     "execution_count": 19,
     "metadata": {},
     "output_type": "execute_result"
    }
   ],
   "source": [
    "df_final = pd.merge(df_k, df_soy, on='S_Date', how='outer')\n",
    "print(df_final.shape)\n",
    "\n",
    "df_final = pd.merge(df_final, df_kadala, on='S_Date', how='outer')\n",
    "#print(df_final.shape)\n",
    "\n",
    "df_final = pd.merge(df_final, df_gran, on='S_Date', how='outer')\n",
    "print(df_final.shape)\n",
    "\n",
    "df_final = pd.merge(df_final, df_nadu, on='S_Date', how='outer')\n",
    "print(df_final.shape)\n",
    "\n",
    "df_final = pd.merge(df_final, df_udhall, on='S_Date', how='outer')\n",
    "print(df_final.shape)\n",
    "\n",
    "df_final = pd.merge(df_final, df_dhall, on='S_Date', how='outer')\n",
    "print(df_final.shape)\n",
    "\n",
    "df_final = pd.merge(df_final,df_holidays, on='S_Date', how='outer')\n",
    "print(df_final.shape)\n",
    "\n",
    "#df_final = pd.merge(df_final, df_cannedfish, on='S_Date', how='outer')\n",
    "print(df_final.shape)\n",
    "\n",
    "#df_final = pd.merge(df_final, df_egg, on='S_Date', how='outer')\n",
    "print(df_final.shape)\n",
    "\n",
    "#df_final = pd.merge(df_final, df_datecrown, on='S_Date', how='outer')\n",
    "print(df_final.shape)\n",
    "\n",
    "df_final= df_final[:-1]\n",
    "\n",
    "df_final.tail()"
   ]
  },
  {
   "cell_type": "code",
   "execution_count": null,
   "id": "democratic-shannon",
   "metadata": {},
   "outputs": [
    {
     "name": "stderr",
     "output_type": "stream",
     "text": [
      "C:\\Users\\muralee\\AppData\\Local\\Temp\\ipykernel_12956\\3104450299.py:3: FutureWarning: Series.dt.weekofyear and Series.dt.week have been deprecated. Please use Series.dt.isocalendar().week instead.\n",
      "  df_final['week'] = df_final['S_Date'].dt.week\n"
     ]
    }
   ],
   "source": [
    "df_final['year'] = df_final['S_Date'].dt.year\n",
    "df_final['month'] = df_final['S_Date'].dt.month\n",
    "df_final['week'] = df_final['S_Date'].dt.week\n",
    "df_final['quarter'] = df_final['S_Date'].dt.quarter"
   ]
  },
  {
   "cell_type": "code",
   "execution_count": null,
   "id": "revised-ceremony",
   "metadata": {},
   "outputs": [
    {
     "data": {
      "text/plain": [
       "S_Date                         0\n",
       "Kowpi_Sale_price               0\n",
       "Kowpi_total_item_Qty           0\n",
       "Kowpi_weeksbefore_sale         0\n",
       "Kowpi_2weeksbefore_sale        0\n",
       "Kowpi_3weeksbefore_sale        0\n",
       "Kowpi_4weeksbefore_sale        0\n",
       "Kowpi_last2weeks_totalsale     0\n",
       "Kowpi_last3weeks_totalsale     0\n",
       "Kowpi_lastmonth_totalsale      0\n",
       "Kowpi_weekbefore_price         0\n",
       "Kowpi_5weekbefore_price        1\n",
       "Kowpi_3weekbefore_price        0\n",
       "Kowpi_2weekbefore_price        0\n",
       "Kowpi_4weekbefore_price        0\n",
       "soy_Sale_price                 4\n",
       "soy_total_item_Qty             0\n",
       "kadala_Sale_price             63\n",
       "kadala_total_item_Qty         63\n",
       "fran_Sale_price                0\n",
       "gran_total_item_Qty            0\n",
       "nadu_Sale_price               87\n",
       "nadu_total_item_Qty            6\n",
       "udhall_Sale_price              0\n",
       "udhall_total_item_Qty          0\n",
       "dhall_Sale_price               0\n",
       "dhall_total_item_Qty           0\n",
       "Holidays on weekdays           0\n",
       "Holidays on weekends           0\n",
       "Hindu/Christ holidays          0\n",
       "total_holidays_weekly          0\n",
       "year                           0\n",
       "month                          0\n",
       "week                           0\n",
       "quarter                        0\n",
       "dtype: int64"
      ]
     },
     "execution_count": 21,
     "metadata": {},
     "output_type": "execute_result"
    }
   ],
   "source": [
    "#df.drop for more missing columns\n",
    "threshold = 0.6\n",
    "#Dropping columns with missing value rate higher than threshold\n",
    "df_final = df_final[df_final.columns[df_final.isnull().mean() < threshold]]\n",
    "df_final.isnull().sum()\n",
    "\n",
    "df_final= df_final.iloc[4:,:]\n",
    "\n",
    "df_final.isnull().sum()\n"
   ]
  },
  {
   "cell_type": "code",
   "execution_count": null,
   "id": "lined-coach",
   "metadata": {},
   "outputs": [
    {
     "data": {
      "text/plain": [
       "S_Date                         0\n",
       "Kowpi_Sale_price               0\n",
       "Kowpi_total_item_Qty           0\n",
       "Kowpi_weeksbefore_sale         0\n",
       "Kowpi_2weeksbefore_sale        0\n",
       "Kowpi_3weeksbefore_sale        0\n",
       "Kowpi_4weeksbefore_sale        0\n",
       "Kowpi_last2weeks_totalsale     0\n",
       "Kowpi_last3weeks_totalsale     0\n",
       "Kowpi_lastmonth_totalsale      0\n",
       "Kowpi_weekbefore_price         0\n",
       "Kowpi_5weekbefore_price        1\n",
       "Kowpi_3weekbefore_price        0\n",
       "Kowpi_2weekbefore_price        0\n",
       "Kowpi_4weekbefore_price        0\n",
       "soy_Sale_price                 4\n",
       "soy_total_item_Qty             0\n",
       "kadala_Sale_price             63\n",
       "kadala_total_item_Qty          0\n",
       "fran_Sale_price                0\n",
       "gran_total_item_Qty            0\n",
       "nadu_Sale_price               87\n",
       "nadu_total_item_Qty            6\n",
       "udhall_Sale_price              0\n",
       "udhall_total_item_Qty          0\n",
       "dhall_Sale_price               0\n",
       "dhall_total_item_Qty           0\n",
       "Holidays on weekdays           0\n",
       "Holidays on weekends           0\n",
       "Hindu/Christ holidays          0\n",
       "total_holidays_weekly          0\n",
       "year                           0\n",
       "month                          0\n",
       "week                           0\n",
       "quarter                        0\n",
       "dtype: int64"
      ]
     },
     "execution_count": 22,
     "metadata": {},
     "output_type": "execute_result"
    }
   ],
   "source": [
    "df_final.fillna({'kadala_total_item_Qty':0},inplace=True)\n",
    "df_final.isnull().sum()"
   ]
  },
  {
   "cell_type": "code",
   "execution_count": null,
   "id": "hollow-reporter",
   "metadata": {},
   "outputs": [],
   "source": [
    "# looking at the data after imputation\n",
    "#df_final.fillna(method=\"ffill\", inplace=True)\n",
    "\n",
    "df_final = df_final.ffill().bfill()\n"
   ]
  },
  {
   "cell_type": "code",
   "execution_count": null,
   "id": "fundamental-rabbit",
   "metadata": {},
   "outputs": [
    {
     "data": {
      "text/plain": [
       "S_Date                        0\n",
       "Kowpi_Sale_price              0\n",
       "Kowpi_total_item_Qty          0\n",
       "Kowpi_weeksbefore_sale        0\n",
       "Kowpi_2weeksbefore_sale       0\n",
       "Kowpi_3weeksbefore_sale       0\n",
       "Kowpi_4weeksbefore_sale       0\n",
       "Kowpi_last2weeks_totalsale    0\n",
       "Kowpi_last3weeks_totalsale    0\n",
       "Kowpi_lastmonth_totalsale     0\n",
       "Kowpi_weekbefore_price        0\n",
       "Kowpi_5weekbefore_price       0\n",
       "Kowpi_3weekbefore_price       0\n",
       "Kowpi_2weekbefore_price       0\n",
       "Kowpi_4weekbefore_price       0\n",
       "soy_Sale_price                0\n",
       "soy_total_item_Qty            0\n",
       "kadala_Sale_price             0\n",
       "kadala_total_item_Qty         0\n",
       "fran_Sale_price               0\n",
       "gran_total_item_Qty           0\n",
       "nadu_Sale_price               0\n",
       "nadu_total_item_Qty           0\n",
       "udhall_Sale_price             0\n",
       "udhall_total_item_Qty         0\n",
       "dhall_Sale_price              0\n",
       "dhall_total_item_Qty          0\n",
       "Holidays on weekdays          0\n",
       "Holidays on weekends          0\n",
       "Hindu/Christ holidays         0\n",
       "total_holidays_weekly         0\n",
       "year                          0\n",
       "month                         0\n",
       "week                          0\n",
       "quarter                       0\n",
       "dtype: int64"
      ]
     },
     "execution_count": 24,
     "metadata": {},
     "output_type": "execute_result"
    }
   ],
   "source": [
    "df_final.isnull().sum()"
   ]
  },
  {
   "cell_type": "raw",
   "id": "starting-refrigerator",
   "metadata": {},
   "source": [
    "#Features and Labels and Convert Data to Arrays\n",
    "\n",
    "train_df_final=df_final[(df_final['S_Date'] > '2016-07-03') & (df_final['S_Date'] <= '2019-06-30')]\n",
    "test_df_final=df_final[(df_final['S_Date'] >= '2019-07-07') & (df_final['S_Date'] <= '2020-01-05')]"
   ]
  },
  {
   "cell_type": "raw",
   "id": "institutional-czech",
   "metadata": {},
   "source": [
    "# Labels are the values we want to predict\n",
    "train_labels = train_df_final['AFC400_total_item_Qty']\n",
    "test_labels = test_df_final['AFC400_total_item_Qty']\n",
    "\n",
    "train_features= train_df_final.drop(['AFC400_total_item_Qty','S_Date'], axis = 1)\n",
    "test_features= test_df_final.drop(['AFC400_total_item_Qty','S_Date'], axis = 1)\n",
    "\n",
    "feature_list = list(train_features.columns)\n",
    "\n",
    "\n",
    "#train_features= train_df_final[['AFC400_Sale_price','year','week','month']]\n",
    "#test_features= test_df_final[['AFC400_Sale_price','year','week','month']]"
   ]
  },
  {
   "cell_type": "code",
   "execution_count": null,
   "id": "independent-dover",
   "metadata": {},
   "outputs": [],
   "source": [
    "#df_final=df_final.drop(['AFC400__Profit per unit'],axis=1)\n",
    "\n",
    "#Training and Testing Sets\n",
    "# Using Skicit-learn to split data into training and testing sets\n",
    "from sklearn.model_selection import train_test_split, cross_val_score\n",
    "\n",
    "\n",
    "labels = df_final['Kowpi_total_item_Qty']\n",
    "features = df_final.drop(['Kowpi_total_item_Qty', 'S_Date'], axis=1)\n",
    "\n",
    "\n",
    "# Split the data into training and testing sets\n",
    "train_features, test_features, train_labels, test_labels = train_test_split(features, labels, test_size = 0.2,random_state = 42)\n",
    "\n",
    "feature_list = list(train_features.columns)\n",
    "\n",
    "#train_features = boulder_precip_2003_2013['2005-05-01':'2005-08-31']\n"
   ]
  },
  {
   "cell_type": "raw",
   "id": "b3c7bed7",
   "metadata": {},
   "source": [
    "train_df_final=df_final[(df_final['S_Date'] > '2016-07-03') & (df_final['S_Date'] <= '2019-06-30')]\n",
    "test_df_final=df_final[(df_final['S_Date'] >= '2019-07-07') & (df_final['S_Date'] <= '2020-01-05')]\n",
    "\n",
    "train_labels = train_df_final['Kowpi_total_item_Qty']\n",
    "test_labels = test_df_final['Kowpi_total_item_Qty']\n",
    "\n",
    "train_features= train_df_final.drop(['Kowpi_total_item_Qty','S_Date'], axis = 1)\n",
    "test_features= test_df_final.drop(['Kowpi_total_item_Qty','S_Date'], axis = 1)\n",
    "\n",
    "features=df_final.drop(['Kowpi_total_item_Qty','S_Date'],axis=1)\n",
    "feature_list = list(train_features.columns)"
   ]
  },
  {
   "cell_type": "code",
   "execution_count": null,
   "id": "loving-poverty",
   "metadata": {},
   "outputs": [
    {
     "name": "stdout",
     "output_type": "stream",
     "text": [
      "Training Features Shape: (144, 33)\n",
      "Training Labels Shape: (144,)\n",
      "Testing Features Shape: (36, 33)\n",
      "Testing Labels Shape: (36,)\n"
     ]
    }
   ],
   "source": [
    "print('Training Features Shape:', train_features.shape)\n",
    "print('Training Labels Shape:', train_labels.shape)\n",
    "print('Testing Features Shape:', test_features.shape)\n",
    "print('Testing Labels Shape:', test_labels.shape)"
   ]
  },
  {
   "cell_type": "code",
   "execution_count": null,
   "id": "auburn-angola",
   "metadata": {},
   "outputs": [],
   "source": [
    "#Train Model\n",
    "# Import the model we are using\n",
    "from sklearn.ensemble import RandomForestRegressor\n",
    "\n",
    "# Instantiate model \n",
    "#rf = RandomForestRegressor(n_estimators= 60, random_state=42,bootstrap=True,max_depth=None,max_features=3)\n",
    "rf = RandomForestRegressor(n_estimators= 100, random_state=42)\n",
    "\n",
    "# Train the model on training data\n",
    "rf.fit(train_features, train_labels);\n"
   ]
  },
  {
   "cell_type": "code",
   "execution_count": null,
   "id": "brazilian-evidence",
   "metadata": {},
   "outputs": [
    {
     "name": "stdout",
     "output_type": "stream",
     "text": [
      "RandomForestRegressor(bootstrap=True, ccp_alpha=0.0, criterion='mse',\n",
      "                      max_depth=None, max_features='auto', max_leaf_nodes=None,\n",
      "                      max_samples=None, min_impurity_decrease=0.0,\n",
      "                      min_impurity_split=None, min_samples_leaf=1,\n",
      "                      min_samples_split=2, min_weight_fraction_leaf=0.0,\n",
      "                      n_estimators=100, n_jobs=None, oob_score=False,\n",
      "                      random_state=42, verbose=0, warm_start=False)\n"
     ]
    }
   ],
   "source": [
    "from sklearn import set_config \n",
    "set_config(print_changed_only=False) \n",
    "print(rf)"
   ]
  },
  {
   "cell_type": "code",
   "execution_count": null,
   "id": "infectious-sustainability",
   "metadata": {},
   "outputs": [
    {
     "name": "stdout",
     "output_type": "stream",
     "text": [
      "Train Mean Absolute Error: 3.55\n",
      "Train Mean Squared Error: 25.76\n",
      "Train RMSE: 5.08\n",
      "Train R-squared scores: 0.9\n",
      "weekly mean sales : 26.404566666666653\n",
      "Accuracy: 79.08 %.\n",
      "\n",
      "Test Mean Absolute Error: 8.49\n",
      "Test Mean Squared Error: 130.24\n",
      "Test RMSE: 11.41\n",
      "Test R-squared scores: 0.65\n",
      "weekly mean sales : 26.404566666666653\n",
      "Accuracy: 60.2 %.\n"
     ]
    }
   ],
   "source": [
    "from sklearn.metrics import mean_squared_error, r2_score, mean_absolute_error\n",
    "import sklearn.metrics as metrics\n",
    "\n",
    "predictions = rf.predict(train_features)\n",
    "\n",
    "# Calculate the absolute errors\n",
    "r2 = r2_score(train_labels.values.ravel(), predictions)\n",
    "mae = mean_absolute_error(train_labels.values.ravel(), predictions)\n",
    "mse = mean_squared_error(train_labels.values.ravel(), predictions)\n",
    "rmse= np.sqrt(metrics.mean_squared_error(train_labels, predictions))\n",
    "\n",
    "print('Train Mean Absolute Error:', round(mae, 2))\n",
    "print('Train Mean Squared Error:', round(mse, 2))\n",
    "print('Train RMSE:', round(rmse, 2))\n",
    "print('Train R-squared scores:', round(r2, 2))\n",
    "\n",
    "print('weekly mean sales :', df_final['Kowpi_total_item_Qty'].mean())\n",
    "\n",
    "errors = abs(predictions - train_labels)\n",
    "mape = 100 * (errors / train_labels)\n",
    "\n",
    "# Calculate and display accuracy\n",
    "accuracy = 100 - np.mean(mape)\n",
    "print('Accuracy:', round(accuracy, 2), '%.')\n",
    "\n",
    "\n",
    "predictions = rf.predict(test_features)\n",
    "\n",
    "# Calculate the absolute errors\n",
    "errors = abs(predictions - test_labels)\n",
    "\n",
    "\n",
    "r2 = r2_score(test_labels.values.ravel(), predictions)\n",
    "mae = mean_absolute_error(test_labels.values.ravel(), predictions)\n",
    "mse = mean_squared_error(test_labels.values.ravel(), predictions)\n",
    "rmse= np.sqrt(metrics.mean_squared_error(test_labels, predictions))\n",
    "\n",
    "print('\\nTest Mean Absolute Error:', round(mae, 2))\n",
    "print('Test Mean Squared Error:', round(mse, 2))\n",
    "print('Test RMSE:', round(rmse, 2))\n",
    "print('Test R-squared scores:', round(r2, 2))\n",
    "\n",
    "print('weekly mean sales :', df_final['Kowpi_total_item_Qty'].mean())\n",
    "\n",
    "\n",
    "mape = 100 * (errors / test_labels)\n",
    "\n",
    "# Calculate and display accuracy\n",
    "accuracy = 100 - np.mean(mape)\n",
    "print('Accuracy:', round(accuracy, 2), '%.')\n"
   ]
  },
  {
   "cell_type": "raw",
   "id": "returning-madness",
   "metadata": {},
   "source": [
    "# Import tools needed for visualization\n",
    "from sklearn.tree import export_graphviz\n",
    "import pydot\n",
    "\n",
    "# Pull out one tree from the forest\n",
    "tree = rf.estimators_[5]\n",
    "\n",
    "# Export the image to a dot file\n",
    "export_graphviz(tree, out_file = 'tree.dot', feature_names = feature_list, rounded = True, precision = 1)\n",
    "\n",
    "# Use dot file to create a graph\n",
    "(graph, ) = pydot.graph_from_dot_file('tree.dot')\n",
    "\n",
    "# Write graph to a png file\n",
    "graph.write_png('tree.png');"
   ]
  },
  {
   "cell_type": "code",
   "execution_count": null,
   "id": "generous-architecture",
   "metadata": {
    "scrolled": true
   },
   "outputs": [
    {
     "name": "stdout",
     "output_type": "stream",
     "text": [
      "Variable: Kowpi_4weeksbefore_sale                  Importance: 0.25\n",
      "Variable: Kowpi_2weeksbefore_sale                  Importance: 0.14\n",
      "Variable: gran_total_item_Qty                      Importance: 0.1\n",
      "Variable: Kowpi_5weekbefore_price                  Importance: 0.07\n",
      "Variable: Kowpi_3weeksbefore_sale                  Importance: 0.04\n",
      "Variable: dhall_Sale_price                         Importance: 0.04\n",
      "Variable: Kowpi_weeksbefore_sale                   Importance: 0.03\n",
      "Variable: Kowpi_weekbefore_price                   Importance: 0.03\n",
      "Variable: fran_Sale_price                          Importance: 0.03\n",
      "Variable: Kowpi_last2weeks_totalsale               Importance: 0.02\n",
      "Variable: Kowpi_last3weeks_totalsale               Importance: 0.02\n",
      "Variable: soy_total_item_Qty                       Importance: 0.02\n",
      "Variable: kadala_Sale_price                        Importance: 0.02\n",
      "Variable: kadala_total_item_Qty                    Importance: 0.02\n",
      "Variable: nadu_total_item_Qty                      Importance: 0.02\n",
      "Variable: udhall_total_item_Qty                    Importance: 0.02\n",
      "Variable: year                                     Importance: 0.02\n",
      "Variable: week                                     Importance: 0.02\n",
      "Variable: Kowpi_Sale_price                         Importance: 0.01\n",
      "Variable: Kowpi_lastmonth_totalsale                Importance: 0.01\n",
      "Variable: Kowpi_3weekbefore_price                  Importance: 0.01\n",
      "Variable: Kowpi_2weekbefore_price                  Importance: 0.01\n",
      "Variable: Kowpi_4weekbefore_price                  Importance: 0.01\n",
      "Variable: nadu_Sale_price                          Importance: 0.01\n",
      "Variable: udhall_Sale_price                        Importance: 0.01\n",
      "Variable: dhall_total_item_Qty                     Importance: 0.01\n",
      "Variable: total_holidays_weekly                    Importance: 0.01\n",
      "Variable: month                                    Importance: 0.01\n",
      "Variable: soy_Sale_price                           Importance: 0.0\n",
      "Variable: Holidays on weekdays                     Importance: 0.0\n",
      "Variable: Holidays on weekends                     Importance: 0.0\n",
      "Variable: Hindu/Christ holidays                    Importance: 0.0\n",
      "Variable: quarter                                  Importance: 0.0\n"
     ]
    }
   ],
   "source": [
    "# Get numerical feature importances\n",
    "importances = list(rf.feature_importances_)\n",
    "\n",
    "# List of tuples with variable and importance\n",
    "feature_importances = [(feature, round(importance, 2)) for feature, importance in zip(feature_list, importances)]\n",
    "\n",
    "# Sort the feature importances by most important first\n",
    "feature_importances = sorted(feature_importances, key = lambda x: x[1], reverse = True)\n",
    "\n",
    "# Print out the feature and importances \n",
    "[print('Variable: {:40} Importance: {}'.format(*pair)) for pair in feature_importances];"
   ]
  },
  {
   "cell_type": "code",
   "execution_count": null,
   "id": "romantic-garlic",
   "metadata": {},
   "outputs": [
    {
     "data": {
      "image/png": "[encoded data removed]",
      "text/plain": [
       "<Figure size 432x288 with 1 Axes>"
      ]
     },
     "metadata": {
      "needs_background": "light"
     },
     "output_type": "display_data"
    }
   ],
   "source": [
    "# list of x locations for plotting\n",
    "x_values = list(range(len(importances)))\n",
    "\n",
    "# Make a bar chart\n",
    "plt.bar(x_values, importances, orientation = 'vertical')\n",
    "\n",
    "# Tick labels for x axis\n",
    "plt.xticks(x_values, feature_list, rotation='vertical')\n",
    "\n",
    "# Axis labels and title\n",
    "plt.ylabel('Importance'); plt.xlabel('Variable'); plt.title('Variable Importances');"
   ]
  },
  {
   "cell_type": "code",
   "execution_count": null,
   "id": "unavailable-workshop",
   "metadata": {},
   "outputs": [],
   "source": [
    "from sklearn.model_selection import GridSearchCV\n",
    "from sklearn.model_selection import TimeSeriesSplit\n",
    "# Create the parameter grid based on the results of random search \n",
    "param_grid = {\n",
    "    'bootstrap': [True],\n",
    "    'max_depth': [None,5,10,15,20,30,35],\n",
    "    'max_features': ['auto'],\n",
    "    'min_samples_leaf': [1,2,3],\n",
    "    'min_samples_split': [1,2,3,4,5,6,7,8],\n",
    "   'n_estimators': [10,50,100,200,500,600,700,800,900,1000]\n",
    "}\n",
    "#tscv = TimeSeriesSplit(n_splits=5)\n",
    "\n",
    "# Create a based model\n",
    "rf = RandomForestRegressor(random_state=42)\n",
    "# Instantiate the grid search model\n",
    "grid_search = GridSearchCV(estimator=rf, param_grid=param_grid, cv=5,n_jobs = -1, verbose = 2)\n",
    "\n",
    "#cv = [(slice(None), slice(None))]\n",
    "\n"
   ]
  },
  {
   "cell_type": "raw",
   "id": "9c920610",
   "metadata": {},
   "source": [
    "param_grid = {\n",
    "    'bootstrap': [True],\n",
    "    'max_depth': [None,5,10,15,20,30,35],\n",
    "    'max_features': ['auto'],\n",
    "    'min_samples_leaf': [1,2,3],\n",
    "    'min_samples_split': [1,2,3,4,5,6,7,8],\n",
    "   'n_estimators': [10,50,100,200,500,600,700,800,900,1000]"
   ]
  },
  {
   "cell_type": "code",
   "execution_count": null,
   "id": "aa937889",
   "metadata": {},
   "outputs": [
    {
     "name": "stdout",
     "output_type": "stream",
     "text": [
      "Fitting 1 folds for each of 1680 candidates, totalling 1680 fits\n"
     ]
    },
    {
     "name": "stderr",
     "output_type": "stream",
     "text": [
      "c:\\Users\\muralee\\anaconda3\\envs\\msc_project\\lib\\site-packages\\sklearn\\model_selection\\_search.py:922: UserWarning: One or more of the test scores are non-finite: [      nan       nan       nan ... 0.7738726 0.7728539 0.7735338]\n",
      "  warnings.warn(\n"
     ]
    },
    {
     "data": {
      "text/plain": [
       "{'bootstrap': True,\n",
       " 'max_depth': 10,\n",
       " 'max_features': 'auto',\n",
       " 'min_samples_leaf': 1,\n",
       " 'min_samples_split': 2,\n",
       " 'n_estimators': 50}"
      ]
     },
     "execution_count": 33,
     "metadata": {},
     "output_type": "execute_result"
    }
   ],
   "source": [
    "grid_search.fit(train_features, train_labels)\n",
    "grid_search.best_params_\n"
   ]
  },
  {
   "cell_type": "code",
   "execution_count": null,
   "id": "reasonable-thumbnail",
   "metadata": {},
   "outputs": [
    {
     "name": "stdout",
     "output_type": "stream",
     "text": [
      "Train Mean Absolute Error: 3.58\n",
      "Train Mean Squared Error: 24.55\n",
      "Train RMSE: 4.96\n",
      "Train R-squared scores: 0.91\n",
      "weekly mean sales : 26.404566666666653\n",
      "Accuracy: 78.88 %.\n",
      "\n",
      "Test Mean Absolute Error: 8.8\n",
      "Test Mean Squared Error: 124.13\n",
      "Test RMSE: 11.14\n",
      "Test R-squared scores: 0.66\n",
      "weekly mean sales : 26.404566666666653\n",
      "Accuracy: 59.63 %.\n"
     ]
    }
   ],
   "source": [
    "best_grid = grid_search.best_estimator_\n",
    "\n",
    "predictions = best_grid.predict(train_features)\n",
    "\n",
    "# Calculate the absolute errors\n",
    "r2 = r2_score(train_labels.values.ravel(), predictions)\n",
    "mae = mean_absolute_error(train_labels.values.ravel(), predictions)\n",
    "mse = mean_squared_error(train_labels.values.ravel(), predictions)\n",
    "rmse= np.sqrt(metrics.mean_squared_error(train_labels, predictions))\n",
    "\n",
    "print('Train Mean Absolute Error:', round(mae, 2))\n",
    "print('Train Mean Squared Error:', round(mse, 2))\n",
    "print('Train RMSE:', round(rmse, 2))\n",
    "print('Train R-squared scores:', round(r2, 2))\n",
    "\n",
    "print('weekly mean sales :',df_final['Kowpi_total_item_Qty'].mean())\n",
    "\n",
    "errors = abs(predictions - train_labels)\n",
    "mape = 100 * (errors / train_labels)\n",
    "\n",
    "# Calculate and display accuracy\n",
    "accuracy = 100 - np.mean(mape)\n",
    "print('Accuracy:', round(accuracy, 2), '%.')\n",
    "\n",
    "#####\n",
    "\n",
    "prediction = best_grid.predict(test_features)\n",
    "\n",
    "# Calculate the absolute errors\n",
    "r2 = r2_score(test_labels.values.ravel(), prediction)\n",
    "mae = mean_absolute_error(test_labels.values.ravel(), prediction)\n",
    "mse = mean_squared_error(test_labels.values.ravel(), prediction)\n",
    "rmse= np.sqrt(metrics.mean_squared_error(test_labels, prediction))\n",
    "\n",
    "print('\\nTest Mean Absolute Error:', round(mae, 2))\n",
    "print('Test Mean Squared Error:', round(mse, 2))\n",
    "print('Test RMSE:', round(rmse, 2))\n",
    "print('Test R-squared scores:', round(r2, 2))\n",
    "\n",
    "print('weekly mean sales :', df_final['Kowpi_total_item_Qty'].mean())\n",
    "\n",
    "errors = abs(prediction - test_labels)\n",
    "mape = 100 * (errors / test_labels)\n",
    "\n",
    "# Calculate and display accuracy\n",
    "accuracy = 100 - np.mean(mape)\n",
    "print('Accuracy:', round(accuracy, 2), '%.')"
   ]
  },
  {
   "cell_type": "code",
   "execution_count": null,
   "id": "refined-announcement",
   "metadata": {},
   "outputs": [
    {
     "data": {
      "text/plain": [
       "Text(0.5, 0, 'n_estimators')"
      ]
     },
     "execution_count": 35,
     "metadata": {},
     "output_type": "execute_result"
    },
    {
     "data": {
      "image/png": "[encoded data removed]",
      "text/plain": [
       "<Figure size 432x288 with 1 Axes>"
      ]
     },
     "metadata": {
      "needs_background": "light"
     },
     "output_type": "display_data"
    }
   ],
   "source": [
    "#bootstrap=True,max_depth=5,max_features='auto',min_samples_leaf=1,min_samples_split=7,n_estimators=10\n",
    "\n",
    "n_estimators=[1,2,3,4,5,6,7,8,9,10,20,30,40,50,60,70,80,90,100]\n",
    "\n",
    "train_results = []\n",
    "test_results = []\n",
    "\n",
    "\n",
    "for i in n_estimators:\n",
    "    dt = RandomForestRegressor(n_estimators=i,bootstrap=True,max_depth=5,max_features='auto',min_samples_leaf=1,min_samples_split=7)\n",
    "    dt.fit(train_features, train_labels) \n",
    "    #compute accuracy for train data\n",
    "    predictions = dt.predict(train_features)\n",
    "    errors = abs(predictions - train_labels)\n",
    "    # Calculate mean absolute percentage error (MAPE)\n",
    "    mape = 100 * (errors / train_labels)\n",
    "    # Calculate and display accuracy\n",
    "    accuracy = 100 - np.mean(mape)\n",
    "    r2 = r2_score(train_labels.values.ravel(), predictions)\n",
    "    rmse= np.sqrt(metrics.mean_squared_error(train_labels, predictions))\n",
    "    #append results of accuracy\n",
    "    train_results.append(r2)\n",
    "    \n",
    "    #now again for test data\n",
    "    predictions = dt.predict(test_features)\n",
    "    errors = abs(predictions - test_labels)\n",
    "    # Calculate mean absolute percentage error (MAPE)\n",
    "    mape = 100 * (errors / test_labels)\n",
    "    # Calculate and display accuracy\n",
    "    accuracy = 100 - np.mean(mape)\n",
    "    r2 = r2_score(test_labels.values.ravel(), predictions)\n",
    "    rmse = np.sqrt(metrics.mean_squared_error(test_labels, predictions))\n",
    "    #append results of accuracy\n",
    "    test_results.append(r2)\n",
    "    \n",
    "from matplotlib.legend_handler import HandlerLine2D\n",
    "line1, = plt.plot(n_estimators, train_results, 'b', label='Train RMSE')\n",
    "line2, = plt.plot(n_estimators, test_results, 'r', label= 'Test RMSE')\n",
    "\n",
    "plt.legend(handler_map={line1: HandlerLine2D(numpoints=2)})\n",
    "plt.ylabel('RMSE')\n",
    "plt.xlabel('n_estimators')"
   ]
  },
  {
   "cell_type": "code",
   "execution_count": null,
   "id": "a7ca6bb2",
   "metadata": {},
   "outputs": [
    {
     "data": {
      "text/plain": [
       "Text(0.5, 0, 'n_estimators')"
      ]
     },
     "execution_count": 36,
     "metadata": {},
     "output_type": "execute_result"
    },
    {
     "data": {
      "image/png": "[encoded data removed]",
      "text/plain": [
       "<Figure size 432x288 with 1 Axes>"
      ]
     },
     "metadata": {
      "needs_background": "light"
     },
     "output_type": "display_data"
    }
   ],
   "source": [
    "#bootstrap=True,max_depth=5,max_features='auto',min_samples_leaf=1,min_samples_split=7,n_estimators=10\n",
    "\n",
    "from matplotlib.legend_handler import HandlerLine2D\n",
    "n_estimators = [1, 2, 3, 4, 5, 6, 7, 8, 9,\n",
    "                10, 20, 30, 40, 50, 60, 70, 80, 90, 100]\n",
    "\n",
    "train_results = []\n",
    "test_results = []\n",
    "\n",
    "\n",
    "for i in n_estimators:\n",
    "    dt = RandomForestRegressor(n_estimators=i, bootstrap=True, max_depth=5,\n",
    "                               max_features='auto', min_samples_leaf=1, min_samples_split=7)\n",
    "    dt.fit(train_features, train_labels)\n",
    "    #compute accuracy for train data\n",
    "    predictions = dt.predict(train_features)\n",
    "    errors = abs(predictions - train_labels)\n",
    "    # Calculate mean absolute percentage error (MAPE)\n",
    "    mape = 100 * (errors / train_labels)\n",
    "    # Calculate and display accuracy\n",
    "    accuracy = 100 - np.mean(mape)\n",
    "    r2 = r2_score(train_labels.values.ravel(), predictions)\n",
    "    rmse = np.sqrt(metrics.mean_squared_error(train_labels, predictions))\n",
    "    #append results of accuracy\n",
    "    train_results.append(r2)\n",
    "\n",
    "    #now again for test data\n",
    "    predictions = dt.predict(test_features)\n",
    "    errors = abs(predictions - test_labels)\n",
    "    # Calculate mean absolute percentage error (MAPE)\n",
    "    mape = 100 * (errors / test_labels)\n",
    "    # Calculate and display accuracy\n",
    "    accuracy = 100 - np.mean(mape)\n",
    "    r2 = r2_score(test_labels.values.ravel(), predictions)\n",
    "    rmse = np.sqrt(metrics.mean_squared_error(test_labels, predictions))\n",
    "    #append results of accuracy\n",
    "    test_results.append(r2)\n",
    "\n",
    "line1, = plt.plot(n_estimators, train_results, 'b', label='Train RMSE')\n",
    "line2, = plt.plot(n_estimators, test_results, 'r', label='Test RMSE')\n",
    "\n",
    "plt.legend(handler_map={line1: HandlerLine2D(numpoints=2)})\n",
    "plt.ylabel('RMSE')\n",
    "plt.xlabel('n_estimators')\n"
   ]
  },
  {
   "cell_type": "code",
   "execution_count": null,
   "id": "measured-efficiency",
   "metadata": {},
   "outputs": [
    {
     "data": {
      "text/plain": [
       "Text(0.5, 0, 'min_samples_leaf')"
      ]
     },
     "execution_count": 37,
     "metadata": {},
     "output_type": "execute_result"
    },
    {
     "data": {
      "image/png": "[encoded data removed]",
      "text/plain": [
       "<Figure size 432x288 with 1 Axes>"
      ]
     },
     "metadata": {
      "needs_background": "light"
     },
     "output_type": "display_data"
    }
   ],
   "source": [
    "#bootstrap=True,max_depth=10,max_features=10,min_samples_leaf=1,min_samples_split=3,n_estimators=30\n",
    "\n",
    "\n",
    "min_samples_leaf=[1,2,3]\n",
    "\n",
    "train_results = []\n",
    "test_results = []\n",
    "\n",
    "\n",
    "for i in min_samples_leaf:\n",
    "    dt = RandomForestRegressor(min_samples_leaf=i,bootstrap=True,max_depth=10,max_features=10,min_samples_split=3,n_estimators=30)\n",
    "    dt.fit(train_features, train_labels)    \n",
    "    #compute accuracy for train data\n",
    "    predictions = dt.predict(train_features)\n",
    "    errors = abs(predictions - train_labels)\n",
    "    # Calculate mean absolute percentage error (MAPE)\n",
    "    mape = 100 * (errors / train_labels)\n",
    "    # Calculate and display accuracy\n",
    "    accuracy = 100 - np.mean(mape)\n",
    "    r2 = r2_score(train_labels.values.ravel(), predictions)\n",
    "    rmse= np.sqrt(metrics.mean_squared_error(train_labels, predictions))\n",
    "    #append results of accuracy\n",
    "    train_results.append(rmse)\n",
    "    \n",
    "    #now again for test data\n",
    "    predictions = dt.predict(test_features)\n",
    "    errors = abs(predictions - test_labels)\n",
    "    # Calculate mean absolute percentage error (MAPE)\n",
    "    mape = 100 * (errors / test_labels)\n",
    "    # Calculate and display accuracy\n",
    "    accuracy = 100 - np.mean(mape)\n",
    "    r2 = r2_score(test_labels.values.ravel(), predictions)\n",
    "    rmse= np.sqrt(metrics.mean_squared_error(test_labels, predictions))\n",
    "    #append results of accuracy\n",
    "    test_results.append(rmse)\n",
    "    \n",
    "from matplotlib.legend_handler import HandlerLine2D\n",
    "line1, = plt.plot(min_samples_leaf, train_results, 'b', label='Train RMSE')\n",
    "line2, = plt.plot(min_samples_leaf, test_results, 'r', label= 'Test RMSE')\n",
    "\n",
    "plt.legend(handler_map={line1: HandlerLine2D(numpoints=2)})\n",
    "plt.ylabel('RMSE')\n",
    "plt.xlabel('min_samples_leaf')"
   ]
  },
  {
   "cell_type": "code",
   "execution_count": null,
   "id": "joint-civilization",
   "metadata": {},
   "outputs": [
    {
     "data": {
      "text/plain": [
       "Text(0.5, 0, 'max_features')"
      ]
     },
     "execution_count": 38,
     "metadata": {},
     "output_type": "execute_result"
    },
    {
     "data": {
      "image/png": "[encoded data removed]",
      "text/plain": [
       "<Figure size 432x288 with 1 Axes>"
      ]
     },
     "metadata": {
      "needs_background": "light"
     },
     "output_type": "display_data"
    }
   ],
   "source": [
    "#bootstrap=True,max_depth=5,max_features='auto',min_samples_leaf=1,min_samples_split=7,n_estimators=10\n",
    "\n",
    "max_features=['auto',1,2,3,4,5,6,7,8,9,10]\n",
    "\n",
    "train_results = []\n",
    "test_results = []\n",
    "\n",
    "\n",
    "for i in max_features:\n",
    "    dt = RandomForestRegressor(max_features=i,bootstrap=True,max_depth=5,min_samples_leaf=1,min_samples_split=7,n_estimators=10)\n",
    "    dt.fit(train_features, train_labels)    \n",
    "    #compute accuracy for train data\n",
    "    predictions = dt.predict(train_features)\n",
    "    errors = abs(predictions - train_labels)\n",
    "    # Calculate mean absolute percentage error (MAPE)\n",
    "    mape = 100 * (errors / train_labels)\n",
    "    # Calculate and display accuracy\n",
    "    accuracy = 100 - np.mean(mape)\n",
    "    r2 = r2_score(train_labels.values.ravel(), predictions)\n",
    "    rmse= np.sqrt(metrics.mean_squared_error(train_labels, predictions))\n",
    "    #append results of accuracy\n",
    "    train_results.append(rmse)\n",
    "    \n",
    "    #now again for test data\n",
    "    predictions = dt.predict(test_features)\n",
    "    errors = abs(predictions - test_labels)\n",
    "    # Calculate mean absolute percentage error (MAPE)\n",
    "    mape = 100 * (errors / test_labels)\n",
    "    # Calculate and display accuracy\n",
    "    accuracy = 100 - np.mean(mape)\n",
    "    r2 = r2_score(test_labels.values.ravel(), predictions)\n",
    "    rmse= np.sqrt(metrics.mean_squared_error(test_labels, predictions))\n",
    "    #append results of accuracy\n",
    "    test_results.append(rmse)\n",
    "    \n",
    "from matplotlib.legend_handler import HandlerLine2D\n",
    "line1, = plt.plot(max_features, train_results, 'b', label='Train RMSE')\n",
    "line2, = plt.plot(max_features, test_results, 'r', label= 'Test RMSE')\n",
    "\n",
    "plt.legend(handler_map={line1: HandlerLine2D(numpoints=2)})\n",
    "plt.ylabel('RMSE')\n",
    "plt.xlabel('max_features')"
   ]
  },
  {
   "cell_type": "code",
   "execution_count": null,
   "id": "sapphire-journalism",
   "metadata": {},
   "outputs": [
    {
     "data": {
      "text/plain": [
       "Text(0.5, 0, 'max_depth')"
      ]
     },
     "execution_count": 39,
     "metadata": {},
     "output_type": "execute_result"
    },
    {
     "data": {
      "image/png": "[encoded data removed]",
      "text/plain": [
       "<Figure size 432x288 with 1 Axes>"
      ]
     },
     "metadata": {
      "needs_background": "light"
     },
     "output_type": "display_data"
    }
   ],
   "source": [
    "#bootstrap=True,max_depth=5,max_features='auto',min_samples_leaf=1,min_samples_split=7,n_estimators=10\n",
    "\n",
    "max_depth=[None,5,10,20,30,40,50,60,70,80]\n",
    "\n",
    "train_results = []\n",
    "test_results = []\n",
    "\n",
    "\n",
    "for i in max_depth:\n",
    "    dt = RandomForestRegressor(max_depth=i,bootstrap=True,max_features='auto',min_samples_leaf=1,min_samples_split=7,n_estimators=10)\n",
    "    dt.fit(train_features, train_labels)    \n",
    "    #compute accuracy for train data\n",
    "    predictions = dt.predict(train_features)\n",
    "    errors = abs(predictions - train_labels)\n",
    "    # Calculate mean absolute percentage error (MAPE)\n",
    "    mape = 100 * (errors / train_labels)\n",
    "    # Calculate and display accuracy\n",
    "    accuracy = 100 - np.mean(mape)\n",
    "    r2 = r2_score(train_labels.values.ravel(), predictions)\n",
    "    rmse= np.sqrt(metrics.mean_squared_error(train_labels, predictions))\n",
    "    #append results of accuracy\n",
    "    train_results.append(rmse)\n",
    "    \n",
    "    #now again for test data\n",
    "    predictions = dt.predict(test_features)\n",
    "    errors = abs(predictions - test_labels)\n",
    "    # Calculate mean absolute percentage error (MAPE)\n",
    "    mape = 100 * (errors / test_labels)\n",
    "    # Calculate and display accuracy\n",
    "    accuracy = 100 - np.mean(mape)\n",
    "    r2 = r2_score(test_labels.values.ravel(), predictions)\n",
    "    rmse= np.sqrt(metrics.mean_squared_error(test_labels, predictions))\n",
    "    #append results of accuracy\n",
    "    test_results.append(rmse)\n",
    "    \n",
    "from matplotlib.legend_handler import HandlerLine2D\n",
    "line1, = plt.plot(max_depth, train_results, 'b', label='Train RMSE')\n",
    "line2, = plt.plot(max_depth, test_results, 'r', label= 'Test RMSE')\n",
    "\n",
    "plt.legend(handler_map={line1: HandlerLine2D(numpoints=2)})\n",
    "plt.ylabel('RMSE')\n",
    "plt.xlabel('max_depth')"
   ]
  },
  {
   "cell_type": "raw",
   "id": "dated-decrease",
   "metadata": {},
   "source": [
    "\n"
   ]
  },
  {
   "cell_type": "raw",
   "id": "sealed-forwarding",
   "metadata": {},
   "source": [
    "df_final = df_final.drop(['kadala_Sale_price'], axis=1)\n",
    "\n",
    "train_df_final=df_final[(df_final['S_Date'] > '2016-07-03') & (df_final['S_Date'] <= '2019-06-30')]\n",
    "test_df_final=df_final[(df_final['S_Date'] >= '2019-07-07') & (df_final['S_Date'] <= '2020-01-05')]\n",
    "\n",
    "train_labels = train_df_final['Kowpi_total_item_Qty']\n",
    "test_labels = test_df_final['Kowpi_total_item_Qty']\n",
    "\n",
    "train_features = train_df_final.drop(\n",
    "    ['Kowpi_total_item_Qty', 'S_Date'], axis=1)\n",
    "test_features = test_df_final.drop(['Kowpi_total_item_Qty', 'S_Date'], axis=1)\n",
    "\n",
    "features = df_final.drop(['Kowpi_total_item_Qty', 'S_Date'], axis=1)\n",
    "feature_list = list(train_features.columns)\n",
    "\n",
    "rff = RandomForestRegressor(random_state=42)\n",
    "rff.fit(train_features, train_labels)\n"
   ]
  },
  {
   "cell_type": "code",
   "execution_count": null,
   "id": "diverse-ethiopia",
   "metadata": {},
   "outputs": [],
   "source": [
    "#df_final = df_final.drop(['Holidays on weekends'], axis=1)\n",
    "\n",
    "from sklearn.model_selection import train_test_split\n",
    "\n",
    "labels = df_final['Kowpi_total_item_Qty']\n",
    "features= df_final.drop(['Kowpi_total_item_Qty', 'S_Date'], axis = 1)\n",
    "\n",
    "train_features, test_features, train_labels, test_labels = train_test_split(features, labels, test_size = 0.2,random_state = 42)\n",
    "\n",
    "feature_list = list(train_features.columns)\n",
    "features=df_final.drop(['Kowpi_total_item_Qty', 'S_Date'],axis=1)\n",
    "\n",
    "##################\n",
    "\n",
    "from sklearn.ensemble import RandomForestRegressor\n",
    "\n",
    "rff = RandomForestRegressor(bootstrap=True,n_estimators=10, random_state=42,max_depth=5,max_features='auto',min_samples_leaf=1,min_samples_split=7)\n",
    "#rff = RandomForestRegressor(random_state=42)\n",
    "rff.fit(train_features, train_labels);\n",
    "\n",
    "\n"
   ]
  },
  {
   "cell_type": "code",
   "execution_count": null,
   "id": "treated-poison",
   "metadata": {
    "scrolled": true
   },
   "outputs": [
    {
     "name": "stdout",
     "output_type": "stream",
     "text": [
      "Train Mean Absolute Error: 5.83\n",
      "Train Mean Squared Error: 62.47\n",
      "Train RMSE: 7.9\n",
      "Train R-squared scores: 0.77\n",
      "weekly mean sales : 26.404566666666653\n",
      "Accuracy: 64.99 %.\n",
      "\n",
      "Test Mean Absolute Error: 7.92\n",
      "Test Mean Squared Error: 102.73\n",
      "Test RMSE: 10.14\n",
      "Test R-squared scores: 0.72\n",
      "weekly mean sales : 26.404566666666653\n",
      "Accuracy: 63.62 %.\n"
     ]
    }
   ],
   "source": [
    "from sklearn.metrics import mean_squared_error, r2_score, mean_absolute_error\n",
    "import sklearn.metrics as metrics\n",
    "\n",
    "predictions = rff.predict(train_features)\n",
    "\n",
    "# Calculate the absolute errors\n",
    "r2 = r2_score(train_labels.values.ravel(), predictions)\n",
    "mae = mean_absolute_error(train_labels.values.ravel(), predictions)\n",
    "mse = mean_squared_error(train_labels.values.ravel(), predictions)\n",
    "rmse= np.sqrt(metrics.mean_squared_error(train_labels, predictions))\n",
    "\n",
    "print('Train Mean Absolute Error:', round(mae, 2))\n",
    "print('Train Mean Squared Error:', round(mse, 2))\n",
    "print('Train RMSE:', round(rmse, 2))\n",
    "print('Train R-squared scores:', round(r2, 2))\n",
    "\n",
    "print('weekly mean sales :',df_final['Kowpi_total_item_Qty'].mean())\n",
    "\n",
    "errors = abs(predictions - train_labels)\n",
    "mape = 100 * (errors / train_labels)\n",
    "\n",
    "# Calculate and display accuracy\n",
    "accuracy = 100 - np.mean(mape)\n",
    "print('Accuracy:', round(accuracy, 2), '%.')\n",
    "\n",
    "\n",
    "predictions = rff.predict(test_features)\n",
    "\n",
    "# Calculate the absolute errors\n",
    "errors = abs(predictions - test_labels)\n",
    "\n",
    "\n",
    "r2 = r2_score(test_labels.values.ravel(), predictions)\n",
    "mae = mean_absolute_error(test_labels.values.ravel(), predictions)\n",
    "mse = mean_squared_error(test_labels.values.ravel(), predictions)\n",
    "rmse= np.sqrt(metrics.mean_squared_error(test_labels, predictions))\n",
    "\n",
    "print('\\nTest Mean Absolute Error:', round(mae, 2))\n",
    "print('Test Mean Squared Error:', round(mse, 2))\n",
    "print('Test RMSE:', round(rmse, 2))\n",
    "print('Test R-squared scores:', round(r2, 2))\n",
    "\n",
    "print('weekly mean sales :',df_final['Kowpi_total_item_Qty'].mean())\n",
    "\n",
    "\n",
    "mape = 100 * (errors / test_labels)\n",
    "\n",
    "# Calculate and display accuracy\n",
    "accuracy = 100 - np.mean(mape)\n",
    "print('Accuracy:', round(accuracy, 2), '%.')\n"
   ]
  },
  {
   "cell_type": "code",
   "execution_count": null,
   "id": "shaped-hamilton",
   "metadata": {},
   "outputs": [
    {
     "name": "stdout",
     "output_type": "stream",
     "text": [
      "Variable: Kowpi_4weeksbefore_sale                  Importance: 0.29\n",
      "Variable: Kowpi_2weeksbefore_sale                  Importance: 0.19\n",
      "Variable: gran_total_item_Qty                      Importance: 0.09\n",
      "Variable: Kowpi_weeksbefore_sale                   Importance: 0.06\n",
      "Variable: dhall_Sale_price                         Importance: 0.06\n",
      "Variable: Kowpi_5weekbefore_price                  Importance: 0.05\n",
      "Variable: Kowpi_last3weeks_totalsale               Importance: 0.03\n",
      "Variable: Kowpi_lastmonth_totalsale                Importance: 0.03\n",
      "Variable: fran_Sale_price                          Importance: 0.03\n",
      "Variable: week                                     Importance: 0.03\n",
      "Variable: Kowpi_3weeksbefore_sale                  Importance: 0.02\n",
      "Variable: nadu_total_item_Qty                      Importance: 0.02\n",
      "Variable: dhall_total_item_Qty                     Importance: 0.02\n",
      "Variable: year                                     Importance: 0.02\n",
      "Variable: Kowpi_Sale_price                         Importance: 0.01\n",
      "Variable: Kowpi_last2weeks_totalsale               Importance: 0.01\n",
      "Variable: soy_total_item_Qty                       Importance: 0.01\n",
      "Variable: kadala_Sale_price                        Importance: 0.01\n",
      "Variable: kadala_total_item_Qty                    Importance: 0.01\n",
      "Variable: udhall_total_item_Qty                    Importance: 0.01\n",
      "Variable: Kowpi_weekbefore_price                   Importance: 0.0\n",
      "Variable: Kowpi_3weekbefore_price                  Importance: 0.0\n",
      "Variable: Kowpi_2weekbefore_price                  Importance: 0.0\n",
      "Variable: Kowpi_4weekbefore_price                  Importance: 0.0\n",
      "Variable: soy_Sale_price                           Importance: 0.0\n",
      "Variable: nadu_Sale_price                          Importance: 0.0\n",
      "Variable: udhall_Sale_price                        Importance: 0.0\n",
      "Variable: Holidays on weekdays                     Importance: 0.0\n",
      "Variable: Holidays on weekends                     Importance: 0.0\n",
      "Variable: Hindu/Christ holidays                    Importance: 0.0\n",
      "Variable: total_holidays_weekly                    Importance: 0.0\n",
      "Variable: month                                    Importance: 0.0\n",
      "Variable: quarter                                  Importance: 0.0\n"
     ]
    }
   ],
   "source": [
    "# Get numerical feature importances\n",
    "importances = list(rff.feature_importances_)\n",
    "\n",
    "# List of tuples with variable and importance\n",
    "feature_importances = [(feature, round(importance, 2)) for feature, importance in zip(feature_list, importances)]\n",
    "\n",
    "# Sort the feature importances by most important first\n",
    "feature_importances = sorted(feature_importances, key = lambda x: x[1], reverse = True)\n",
    "\n",
    "# Print out the feature and importances \n",
    "[print('Variable: {:40} Importance: {}'.format(*pair)) for pair in feature_importances];"
   ]
  },
  {
   "cell_type": "code",
   "execution_count": null,
   "id": "62a3d43f",
   "metadata": {},
   "outputs": [],
   "source": []
  },
  {
   "cell_type": "code",
   "execution_count": null,
   "id": "located-collaboration",
   "metadata": {},
   "outputs": [],
   "source": [
    "from sklearn.inspection import plot_partial_dependence\n",
    "from sklearn.inspection import partial_dependence\n",
    "from sklearn.ensemble import RandomForestRegressor"
   ]
  },
  {
   "cell_type": "code",
   "execution_count": null,
   "id": "pregnant-binary",
   "metadata": {},
   "outputs": [
    {
     "name": "stderr",
     "output_type": "stream",
     "text": [
      "c:\\Users\\muralee\\anaconda3\\envs\\msc_project\\lib\\site-packages\\sklearn\\inspection\\_plot\\partial_dependence.py:735: UserWarning: Attempting to set identical bottom == top == 26.177934027777773 results in singular transformations; automatically expanding.\n",
      "  ax.set_ylim(self.pdp_lim[1])\n"
     ]
    },
    {
     "data": {
      "image/png": "[encoded data removed]",
      "text/plain": [
       "<Figure size 432x288 with 2 Axes>"
      ]
     },
     "metadata": {
      "needs_background": "light"
     },
     "output_type": "display_data"
    }
   ],
   "source": [
    "#PDs, grid = partial_dependence(rff, train_features, features = ['AFC400_4weeksbefore_sale'], percentiles = [0,1])\n",
    "plot_partial_dependence(rff, train_features, features = ['soy_Sale_price'], percentiles = [0,1]);"
   ]
  },
  {
   "cell_type": "code",
   "execution_count": null,
   "id": "ordinary-desktop",
   "metadata": {},
   "outputs": [
    {
     "data": {
      "image/png": "[encoded data removed]",
      "text/plain": [
       "<Figure size 432x288 with 2 Axes>"
      ]
     },
     "metadata": {
      "needs_background": "light"
     },
     "output_type": "display_data"
    }
   ],
   "source": [
    "plot_partial_dependence(rff, train_features, features = ['Kowpi_2weeksbefore_sale'], percentiles = [0,1]);"
   ]
  },
  {
   "cell_type": "code",
   "execution_count": null,
   "id": "fresh-observation",
   "metadata": {},
   "outputs": [
    {
     "data": {
      "image/png": "[encoded data removed]",
      "text/plain": [
       "<Figure size 432x288 with 2 Axes>"
      ]
     },
     "metadata": {
      "needs_background": "light"
     },
     "output_type": "display_data"
    }
   ],
   "source": [
    "plot_partial_dependence(rff, train_features, features = ['gran_total_item_Qty'], percentiles = [0,1]);"
   ]
  },
  {
   "cell_type": "code",
   "execution_count": null,
   "id": "behind-valley",
   "metadata": {},
   "outputs": [
    {
     "data": {
      "image/png": "[encoded data removed]",
      "text/plain": [
       "<Figure size 432x288 with 2 Axes>"
      ]
     },
     "metadata": {
      "needs_background": "light"
     },
     "output_type": "display_data"
    }
   ],
   "source": [
    "plot_partial_dependence(rff, train_features, features = ['Kowpi_weeksbefore_sale'], percentiles = [0,1]);"
   ]
  },
  {
   "cell_type": "code",
   "execution_count": null,
   "id": "spread-stomach",
   "metadata": {},
   "outputs": [
    {
     "data": {
      "image/png": "[encoded data removed]",
      "text/plain": [
       "<Figure size 432x288 with 2 Axes>"
      ]
     },
     "metadata": {
      "needs_background": "light"
     },
     "output_type": "display_data"
    }
   ],
   "source": [
    "plot_partial_dependence(rff, train_features, features = ['dhall_Sale_price'], percentiles = [0,1]);"
   ]
  },
  {
   "cell_type": "code",
   "execution_count": null,
   "id": "formal-certification",
   "metadata": {},
   "outputs": [
    {
     "data": {
      "image/png": "[encoded data removed]",
      "text/plain": [
       "<Figure size 432x288 with 2 Axes>"
      ]
     },
     "metadata": {
      "needs_background": "light"
     },
     "output_type": "display_data"
    }
   ],
   "source": [
    "plot_partial_dependence(rff, train_features, features = ['Kowpi_5weekbefore_price'], percentiles = [0,1]);"
   ]
  },
  {
   "cell_type": "code",
   "execution_count": null,
   "id": "welcome-manufacturer",
   "metadata": {},
   "outputs": [
    {
     "data": {
      "image/png": "[encoded data removed]",
      "text/plain": [
       "<Figure size 432x288 with 2 Axes>"
      ]
     },
     "metadata": {
      "needs_background": "light"
     },
     "output_type": "display_data"
    }
   ],
   "source": [
    "plot_partial_dependence(rff, train_features, features = ['Kowpi_last3weeks_totalsale'], percentiles = [0,1]);"
   ]
  },
  {
   "cell_type": "code",
   "execution_count": null,
   "id": "medium-assembly",
   "metadata": {},
   "outputs": [
    {
     "data": {
      "image/png": "[encoded data removed]",
      "text/plain": [
       "<Figure size 432x288 with 2 Axes>"
      ]
     },
     "metadata": {
      "needs_background": "light"
     },
     "output_type": "display_data"
    }
   ],
   "source": [
    "plot_partial_dependence(rff, train_features, features = ['Kowpi_lastmonth_totalsale'], percentiles = [0,1]);"
   ]
  },
  {
   "cell_type": "code",
   "execution_count": null,
   "id": "toxic-progress",
   "metadata": {},
   "outputs": [
    {
     "data": {
      "image/png": "[encoded data removed]",
      "text/plain": [
       "<Figure size 432x288 with 2 Axes>"
      ]
     },
     "metadata": {
      "needs_background": "light"
     },
     "output_type": "display_data"
    }
   ],
   "source": [
    "plot_partial_dependence(rff, train_features, features = ['Kowpi_3weeksbefore_sale'], percentiles = [0,1]);"
   ]
  },
  {
   "cell_type": "code",
   "execution_count": null,
   "id": "searching-enemy",
   "metadata": {},
   "outputs": [
    {
     "data": {
      "image/png": "[encoded data removed]",
      "text/plain": [
       "<Figure size 432x288 with 2 Axes>"
      ]
     },
     "metadata": {
      "needs_background": "light"
     },
     "output_type": "display_data"
    }
   ],
   "source": [
    "plot_partial_dependence(rff, train_features, features = ['nadu_total_item_Qty'], percentiles = [0,1]);"
   ]
  },
  {
   "cell_type": "code",
   "execution_count": null,
   "id": "clinical-award",
   "metadata": {},
   "outputs": [
    {
     "data": {
      "image/png": "[encoded data removed]",
      "text/plain": [
       "<Figure size 432x288 with 2 Axes>"
      ]
     },
     "metadata": {
      "needs_background": "light"
     },
     "output_type": "display_data"
    }
   ],
   "source": [
    "plot_partial_dependence(rff, train_features, features = ['dhall_total_item_Qty'], percentiles = [0,1]);"
   ]
  },
  {
   "cell_type": "code",
   "execution_count": null,
   "id": "caring-suspect",
   "metadata": {},
   "outputs": [
    {
     "data": {
      "image/png": "[encoded data removed]",
      "text/plain": [
       "<Figure size 432x288 with 2 Axes>"
      ]
     },
     "metadata": {
      "needs_background": "light"
     },
     "output_type": "display_data"
    }
   ],
   "source": [
    "plot_partial_dependence(rff, train_features, features = ['year'], percentiles = [0,1]);"
   ]
  },
  {
   "cell_type": "code",
   "execution_count": 1,
   "id": "alike-enforcement",
   "metadata": {},
   "outputs": [
    {
     "ename": "NameError",
     "evalue": "name 'plot_partial_dependence' is not defined",
     "output_type": "error",
     "traceback": [
      "\u001b[1;31m---------------------------------------------------------------------------\u001b[0m",
      "\u001b[1;31mNameError\u001b[0m                                 Traceback (most recent call last)",
      "\u001b[1;32md:\\msc research\\python - kowpi\\Kowpi RF.ipynb Cell 62'\u001b[0m in \u001b[0;36m<cell line: 1>\u001b[1;34m()\u001b[0m\n\u001b[1;32m----> <a href='vscode-notebook-cell:/d%3A/msc%20research/python%20-%20kowpi/Kowpi%20RF.ipynb#ch0000061?line=0'>1</a>\u001b[0m plot_partial_dependence(rff, train_features, features \u001b[39m=\u001b[39m [\u001b[39m'\u001b[39m\u001b[39mAFC250_Sale_price\u001b[39m\u001b[39m'\u001b[39m], percentiles \u001b[39m=\u001b[39m [\u001b[39m0\u001b[39m,\u001b[39m1\u001b[39m])\n",
      "\u001b[1;31mNameError\u001b[0m: name 'plot_partial_dependence' is not defined"
     ]
    }
   ],
   "source": [
    "plot_partial_dependence(rff, train_features, features = ['AFC250_Sale_price'], percentiles = [0,1]);"
   ]
  },
  {
   "cell_type": "code",
   "execution_count": null,
   "id": "demonstrated-oregon",
   "metadata": {},
   "outputs": [],
   "source": []
  },
  {
   "cell_type": "code",
   "execution_count": null,
   "id": "enhanced-zimbabwe",
   "metadata": {},
   "outputs": [],
   "source": []
  }
 ],
 "metadata": {
  "interpreter": {
   "hash": "135773bf58e6095051471bd72b6c42a2b4f85ab8b287d6603681753095dfd262"
  },
  "kernelspec": {
   "display_name": "Python 3.9.12 ('msc_project')",
   "language": "python",
   "name": "python3"
  },
  "language_info": {
   "codemirror_mode": {
    "name": "ipython",
    "version": 3
   },
   "file_extension": ".py",
   "mimetype": "text/x-python",
   "name": "python",
   "nbconvert_exporter": "python",
   "pygments_lexer": "ipython3",
   "version": "3.9.12"
  }
 },
 "nbformat": 4,
 "nbformat_minor": 5
}
